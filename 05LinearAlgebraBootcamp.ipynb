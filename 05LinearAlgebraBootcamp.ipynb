{
 "cells": [
  {
   "cell_type": "markdown",
   "id": "4a8f31f1-5bd8-4419-ad69-32a17db524af",
   "metadata": {},
   "source": [
    "# 线性代数"
   ]
  },
  {
   "cell_type": "markdown",
   "id": "72e3dbe5-841b-4eaf-ae1b-b4b582465a90",
   "metadata": {},
   "source": [
    "## 张量的运算"
   ]
  },
  {
   "cell_type": "code",
   "execution_count": 2,
   "id": "af83f012-c693-4eed-b98c-751b1013a475",
   "metadata": {},
   "outputs": [
    {
     "data": {
      "text/plain": [
       "(tensor([5.]), tensor([6.]), tensor([1.5000]), tensor([9.]))"
      ]
     },
     "execution_count": 2,
     "metadata": {},
     "output_type": "execute_result"
    }
   ],
   "source": [
    "import torch\n",
    "\n",
    "x = torch.tensor([3.0])\n",
    "y = torch.tensor([2.0])\n",
    "\n",
    "x + y, x * y, x / y, x ** y"
   ]
  },
  {
   "cell_type": "code",
   "execution_count": 3,
   "id": "88eb2f26-5999-402b-8a95-348e586411a3",
   "metadata": {},
   "outputs": [
    {
     "data": {
      "text/plain": [
       "tensor([0, 1, 2, 3])"
      ]
     },
     "execution_count": 3,
     "metadata": {},
     "output_type": "execute_result"
    }
   ],
   "source": [
    "x = torch.arange(4)\n",
    "x"
   ]
  },
  {
   "cell_type": "code",
   "execution_count": 4,
   "id": "77cb6512-efac-4d40-9c7f-18fd801f427b",
   "metadata": {},
   "outputs": [
    {
     "data": {
      "text/plain": [
       "tensor(3)"
      ]
     },
     "execution_count": 4,
     "metadata": {},
     "output_type": "execute_result"
    }
   ],
   "source": [
    "x[3]"
   ]
  },
  {
   "cell_type": "code",
   "execution_count": 5,
   "id": "bb38166a-a696-4ee5-a2c5-d5296735c4ab",
   "metadata": {},
   "outputs": [
    {
     "data": {
      "text/plain": [
       "4"
      ]
     },
     "execution_count": 5,
     "metadata": {},
     "output_type": "execute_result"
    }
   ],
   "source": [
    "len(x)"
   ]
  },
  {
   "cell_type": "code",
   "execution_count": 6,
   "id": "12414433-cd8e-4002-ac75-638e463e50b0",
   "metadata": {},
   "outputs": [
    {
     "data": {
      "text/plain": [
       "torch.Size([4])"
      ]
     },
     "execution_count": 6,
     "metadata": {},
     "output_type": "execute_result"
    }
   ],
   "source": [
    "x.shape"
   ]
  },
  {
   "cell_type": "code",
   "execution_count": 10,
   "id": "cd9d524b-4a91-462e-babe-dacc299f7559",
   "metadata": {},
   "outputs": [
    {
     "data": {
      "text/plain": [
       "tensor([[0, 1],\n",
       "        [2, 3]])"
      ]
     },
     "execution_count": 10,
     "metadata": {},
     "output_type": "execute_result"
    }
   ],
   "source": [
    "x = x.reshape(2,2)\n",
    "\n",
    "x"
   ]
  },
  {
   "cell_type": "code",
   "execution_count": 9,
   "id": "8aa2d6bf-7d2b-4e8d-9784-bc3462b1c53d",
   "metadata": {},
   "outputs": [
    {
     "data": {
      "text/plain": [
       "torch.Size([2, 2])"
      ]
     },
     "execution_count": 9,
     "metadata": {},
     "output_type": "execute_result"
    }
   ],
   "source": [
    "x.shape"
   ]
  },
  {
   "cell_type": "markdown",
   "id": "238c0102-4548-4328-98ba-07512332cf70",
   "metadata": {},
   "source": [
    "## 矩阵的转置"
   ]
  },
  {
   "cell_type": "code",
   "execution_count": 13,
   "id": "3bfe0bd4-ff37-400d-a775-4f6d18d073ce",
   "metadata": {},
   "outputs": [
    {
     "data": {
      "text/plain": [
       "tensor([[ 0,  1,  2,  3],\n",
       "        [ 4,  5,  6,  7],\n",
       "        [ 8,  9, 10, 11],\n",
       "        [12, 13, 14, 15],\n",
       "        [16, 17, 18, 19]])"
      ]
     },
     "execution_count": 13,
     "metadata": {},
     "output_type": "execute_result"
    }
   ],
   "source": [
    "A = torch.arange(20).reshape(5, 4)\n",
    "A"
   ]
  },
  {
   "cell_type": "code",
   "execution_count": 15,
   "id": "a088fb46-4f7c-4c32-a82b-e7bba0da8f26",
   "metadata": {},
   "outputs": [
    {
     "data": {
      "text/plain": [
       "tensor([[ 0,  4,  8, 12, 16],\n",
       "        [ 1,  5,  9, 13, 17],\n",
       "        [ 2,  6, 10, 14, 18],\n",
       "        [ 3,  7, 11, 15, 19]])"
      ]
     },
     "execution_count": 15,
     "metadata": {},
     "output_type": "execute_result"
    }
   ],
   "source": [
    "A.T\n",
    "# A矩阵的转置"
   ]
  },
  {
   "cell_type": "markdown",
   "id": "c9379b1e-bb5a-4d68-aa4c-a2ef29387fed",
   "metadata": {},
   "source": [
    "### 对称矩阵 B等于其转置"
   ]
  },
  {
   "cell_type": "code",
   "execution_count": 17,
   "id": "f11d050a-6128-4ace-ad2b-4e06ed1ac675",
   "metadata": {},
   "outputs": [
    {
     "data": {
      "text/plain": [
       "tensor([[1, 2, 3],\n",
       "        [2, 0, 4],\n",
       "        [3, 4, 5]])"
      ]
     },
     "execution_count": 17,
     "metadata": {},
     "output_type": "execute_result"
    }
   ],
   "source": [
    "B = torch.tensor([[1, 2 ,3], [2, 0, 4], [3, 4, 5]])\n",
    "B"
   ]
  },
  {
   "cell_type": "code",
   "execution_count": 18,
   "id": "b25f6c41-9cca-43f7-9953-058ab3994276",
   "metadata": {},
   "outputs": [
    {
     "data": {
      "text/plain": [
       "tensor([[True, True, True],\n",
       "        [True, True, True],\n",
       "        [True, True, True]])"
      ]
     },
     "execution_count": 18,
     "metadata": {},
     "output_type": "execute_result"
    }
   ],
   "source": [
    "B == B.T"
   ]
  },
  {
   "cell_type": "markdown",
   "id": "6743022d-4db6-4dc6-b4ff-6a9c6c068bf7",
   "metadata": {},
   "source": [
    "## 矩阵的运算"
   ]
  },
  {
   "cell_type": "markdown",
   "id": "8068879d-8c1f-4790-b298-36d6a0a0a611",
   "metadata": {
    "jp-MarkdownHeadingCollapsed": true
   },
   "source": [
    "### 一些常规的运算"
   ]
  },
  {
   "cell_type": "code",
   "execution_count": 20,
   "id": "a77b70ea-574a-40bd-8f4a-a29b9e5a51ee",
   "metadata": {},
   "outputs": [
    {
     "data": {
      "text/plain": [
       "tensor([[[ 0,  1,  2,  3],\n",
       "         [ 4,  5,  6,  7],\n",
       "         [ 8,  9, 10, 11]],\n",
       "\n",
       "        [[12, 13, 14, 15],\n",
       "         [16, 17, 18, 19],\n",
       "         [20, 21, 22, 23]]])"
      ]
     },
     "execution_count": 20,
     "metadata": {},
     "output_type": "execute_result"
    }
   ],
   "source": [
    "C = torch.arange(24).reshape(2, 3, 4)\n",
    "C"
   ]
  },
  {
   "cell_type": "code",
   "execution_count": 21,
   "id": "0358dde9-8523-4fde-bacc-b529d1d73e90",
   "metadata": {},
   "outputs": [
    {
     "data": {
      "text/plain": [
       "tensor([[ 0,  1,  2,  3,  4,  5],\n",
       "        [ 6,  7,  8,  9, 10, 11]])"
      ]
     },
     "execution_count": 21,
     "metadata": {},
     "output_type": "execute_result"
    }
   ],
   "source": [
    "D = torch.arange(12).reshape(2, 6)\n",
    "D"
   ]
  },
  {
   "cell_type": "code",
   "execution_count": 27,
   "id": "d98ce7c8-d688-4e4f-aa82-a817581e9e67",
   "metadata": {},
   "outputs": [
    {
     "data": {
      "text/plain": [
       "(tensor([[ 0,  1,  2,  3],\n",
       "         [ 4,  5,  6,  7],\n",
       "         [ 8,  9, 10, 11],\n",
       "         [12, 13, 14, 15],\n",
       "         [16, 17, 18, 19]]),\n",
       " tensor([[ 0,  2,  4,  6],\n",
       "         [ 8, 10, 12, 14],\n",
       "         [16, 18, 20, 22],\n",
       "         [24, 26, 28, 30],\n",
       "         [32, 34, 36, 38]]),\n",
       " False)"
      ]
     },
     "execution_count": 27,
     "metadata": {},
     "output_type": "execute_result"
    }
   ],
   "source": [
    "E = A.clone() \n",
    "# 为E分配了新的地址\n",
    "A, A + E, id(A) == id(E)"
   ]
  },
  {
   "cell_type": "code",
   "execution_count": 24,
   "id": "4913e5d1-ae3d-4de2-bbcc-e1196c77976e",
   "metadata": {},
   "outputs": [
    {
     "data": {
      "text/plain": [
       "tensor([[  0,   1,   4,   9],\n",
       "        [ 16,  25,  36,  49],\n",
       "        [ 64,  81, 100, 121],\n",
       "        [144, 169, 196, 225],\n",
       "        [256, 289, 324, 361]])"
      ]
     },
     "execution_count": 24,
     "metadata": {},
     "output_type": "execute_result"
    }
   ],
   "source": [
    "A * E \n",
    "# 哈达玛积"
   ]
  },
  {
   "cell_type": "code",
   "execution_count": 25,
   "id": "9b32bed7-81c1-4f01-80f0-c11d7b4f480d",
   "metadata": {},
   "outputs": [
    {
     "data": {
      "text/plain": [
       "(tensor([[ 2,  3,  4,  5],\n",
       "         [ 6,  7,  8,  9],\n",
       "         [10, 11, 12, 13],\n",
       "         [14, 15, 16, 17],\n",
       "         [18, 19, 20, 21]]),\n",
       " torch.Size([5, 4]))"
      ]
     },
     "execution_count": 25,
     "metadata": {},
     "output_type": "execute_result"
    }
   ],
   "source": [
    "a = 2\n",
    "a + A, (a * A).shape"
   ]
  },
  {
   "cell_type": "markdown",
   "id": "5f657176-95b4-46ef-af53-13964898a2c3",
   "metadata": {
    "jp-MarkdownHeadingCollapsed": true
   },
   "source": [
    "### 求任意形状张量的元素和"
   ]
  },
  {
   "cell_type": "code",
   "execution_count": 29,
   "id": "5036db3d-102f-4638-b0a1-fb93f33f612f",
   "metadata": {},
   "outputs": [
    {
     "data": {
      "text/plain": [
       "(torch.Size([5, 4]), tensor(190))"
      ]
     },
     "execution_count": 29,
     "metadata": {},
     "output_type": "execute_result"
    }
   ],
   "source": [
    "A.shape, A.sum()"
   ]
  },
  {
   "cell_type": "markdown",
   "id": "a69012eb-8371-4752-aaa4-4c30e519360c",
   "metadata": {},
   "source": [
    "#### 按照指定轴进行元素求和"
   ]
  },
  {
   "cell_type": "code",
   "execution_count": 30,
   "id": "3ad7c626-ba34-4780-9b0b-7c8654f2415b",
   "metadata": {},
   "outputs": [
    {
     "data": {
      "text/plain": [
       "(torch.Size([2, 4, 5]), tensor(780))"
      ]
     },
     "execution_count": 30,
     "metadata": {},
     "output_type": "execute_result"
    }
   ],
   "source": [
    "F = torch.arange(40).reshape(2, 4, 5)\n",
    "F.shape, F.sum()"
   ]
  },
  {
   "cell_type": "code",
   "execution_count": 31,
   "id": "008e01cf-b2af-495a-b5ae-e7bbb8cdf2f5",
   "metadata": {},
   "outputs": [
    {
     "data": {
      "text/plain": [
       "tensor([[[ 0,  1,  2,  3,  4],\n",
       "         [ 5,  6,  7,  8,  9],\n",
       "         [10, 11, 12, 13, 14],\n",
       "         [15, 16, 17, 18, 19]],\n",
       "\n",
       "        [[20, 21, 22, 23, 24],\n",
       "         [25, 26, 27, 28, 29],\n",
       "         [30, 31, 32, 33, 34],\n",
       "         [35, 36, 37, 38, 39]]])"
      ]
     },
     "execution_count": 31,
     "metadata": {},
     "output_type": "execute_result"
    }
   ],
   "source": [
    "F"
   ]
  },
  {
   "cell_type": "code",
   "execution_count": 33,
   "id": "d943441e-0b3a-4c4a-a507-1d1732464d1b",
   "metadata": {},
   "outputs": [
    {
     "data": {
      "text/plain": [
       "(tensor([[20, 22, 24, 26, 28],\n",
       "         [30, 32, 34, 36, 38],\n",
       "         [40, 42, 44, 46, 48],\n",
       "         [50, 52, 54, 56, 58]]),\n",
       " torch.Size([4, 5]))"
      ]
     },
     "execution_count": 33,
     "metadata": {},
     "output_type": "execute_result"
    }
   ],
   "source": [
    "F_sum_axis0 = F.sum(axis = 0)\n",
    "F_sum_axis0, F_sum_axis0.shape"
   ]
  },
  {
   "cell_type": "code",
   "execution_count": 34,
   "id": "a44ef771-d6cb-4851-8f90-5e62306aa74f",
   "metadata": {},
   "outputs": [
    {
     "data": {
      "text/plain": [
       "(tensor([[ 30,  34,  38,  42,  46],\n",
       "         [110, 114, 118, 122, 126]]),\n",
       " torch.Size([2, 5]))"
      ]
     },
     "execution_count": 34,
     "metadata": {},
     "output_type": "execute_result"
    }
   ],
   "source": [
    "F_sum_axis1 = F.sum(axis = 1)\n",
    "F_sum_axis1, F_sum_axis1.shape"
   ]
  },
  {
   "cell_type": "code",
   "execution_count": 36,
   "id": "029f4c2b-5825-4881-8bb6-7f1ae516cae4",
   "metadata": {},
   "outputs": [
    {
     "data": {
      "text/plain": [
       "(tensor([[ 10,  35,  60,  85],\n",
       "         [110, 135, 160, 185]]),\n",
       " torch.Size([2, 4]))"
      ]
     },
     "execution_count": 36,
     "metadata": {},
     "output_type": "execute_result"
    }
   ],
   "source": [
    "F_sum_axis2 = F.sum(axis = 2)\n",
    "F_sum_axis2, F_sum_axis2.shape"
   ]
  },
  {
   "cell_type": "code",
   "execution_count": 39,
   "id": "5b29c332-3f02-4883-8e51-675380475f89",
   "metadata": {},
   "outputs": [
    {
     "data": {
      "text/plain": [
       "(tensor([140, 148, 156, 164, 172]), torch.Size([5]))"
      ]
     },
     "execution_count": 39,
     "metadata": {},
     "output_type": "execute_result"
    }
   ],
   "source": [
    "F_sum_axis01 = F.sum(axis = [0, 1])\n",
    "F_sum_axis01, F_sum_axis01.shape"
   ]
  },
  {
   "cell_type": "code",
   "execution_count": 40,
   "id": "1d18d83f-9af5-489e-a8a8-aae994b1e6ae",
   "metadata": {},
   "outputs": [
    {
     "data": {
      "text/plain": [
       "(tensor(780), torch.Size([]))"
      ]
     },
     "execution_count": 40,
     "metadata": {},
     "output_type": "execute_result"
    }
   ],
   "source": [
    "F_sum_axis012 = F.sum(axis = [0, 1, 2])\n",
    "F_sum_axis012, F_sum_axis012.shape"
   ]
  },
  {
   "cell_type": "markdown",
   "id": "bf9b29cb-6a06-4b2a-9101-93b3c4f6e08c",
   "metadata": {},
   "source": [
    "### 求矩阵的均值"
   ]
  },
  {
   "cell_type": "code",
   "execution_count": null,
   "id": "a7a37a60-db3d-4285-90a0-fd470a8511ff",
   "metadata": {},
   "outputs": [],
   "source": []
  }
 ],
 "metadata": {
  "kernelspec": {
   "display_name": "Python 3 (ipykernel)",
   "language": "python",
   "name": "python3"
  },
  "language_info": {
   "codemirror_mode": {
    "name": "ipython",
    "version": 3
   },
   "file_extension": ".py",
   "mimetype": "text/x-python",
   "name": "python",
   "nbconvert_exporter": "python",
   "pygments_lexer": "ipython3",
   "version": "3.8.20"
  }
 },
 "nbformat": 4,
 "nbformat_minor": 5
}
