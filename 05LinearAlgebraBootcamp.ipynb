{
 "cells": [
  {
   "cell_type": "markdown",
   "id": "4a8f31f1-5bd8-4419-ad69-32a17db524af",
   "metadata": {},
   "source": [
    "# 线性代数"
   ]
  },
  {
   "cell_type": "markdown",
   "id": "72e3dbe5-841b-4eaf-ae1b-b4b582465a90",
   "metadata": {},
   "source": [
    "## 张量的运算"
   ]
  },
  {
   "cell_type": "code",
   "execution_count": 3,
   "id": "af83f012-c693-4eed-b98c-751b1013a475",
   "metadata": {
    "ExecuteTime": {
     "end_time": "2025-01-23T16:23:52.876524Z",
     "start_time": "2025-01-23T16:23:51.387215Z"
    }
   },
   "outputs": [
    {
     "data": {
      "text/plain": [
       "(tensor([5.]), tensor([6.]), tensor([1.5000]), tensor([9.]))"
      ]
     },
     "execution_count": 3,
     "metadata": {},
     "output_type": "execute_result"
    }
   ],
   "source": [
    "import torch\n",
    "\n",
    "x = torch.tensor([3.0])\n",
    "y = torch.tensor([2.0])\n",
    "\n",
    "x + y, x * y, x / y, x ** y"
   ]
  },
  {
   "cell_type": "code",
   "execution_count": 4,
   "id": "88eb2f26-5999-402b-8a95-348e586411a3",
   "metadata": {
    "ExecuteTime": {
     "end_time": "2025-01-23T16:23:52.880774Z",
     "start_time": "2025-01-23T16:23:52.877607Z"
    }
   },
   "outputs": [
    {
     "data": {
      "text/plain": [
       "tensor([0, 1, 2, 3])"
      ]
     },
     "execution_count": 4,
     "metadata": {},
     "output_type": "execute_result"
    }
   ],
   "source": [
    "x = torch.arange(4)\n",
    "x"
   ]
  },
  {
   "cell_type": "code",
   "execution_count": 5,
   "id": "77cb6512-efac-4d40-9c7f-18fd801f427b",
   "metadata": {
    "ExecuteTime": {
     "end_time": "2025-01-23T16:23:52.887399Z",
     "start_time": "2025-01-23T16:23:52.882403Z"
    }
   },
   "outputs": [
    {
     "data": {
      "text/plain": [
       "tensor(3)"
      ]
     },
     "execution_count": 5,
     "metadata": {},
     "output_type": "execute_result"
    }
   ],
   "source": [
    "x[3]"
   ]
  },
  {
   "cell_type": "code",
   "execution_count": 6,
   "id": "bb38166a-a696-4ee5-a2c5-d5296735c4ab",
   "metadata": {
    "ExecuteTime": {
     "end_time": "2025-01-23T16:23:52.898519Z",
     "start_time": "2025-01-23T16:23:52.890361Z"
    }
   },
   "outputs": [
    {
     "data": {
      "text/plain": [
       "4"
      ]
     },
     "execution_count": 6,
     "metadata": {},
     "output_type": "execute_result"
    }
   ],
   "source": [
    "len(x)"
   ]
  },
  {
   "cell_type": "code",
   "execution_count": 7,
   "id": "12414433-cd8e-4002-ac75-638e463e50b0",
   "metadata": {
    "ExecuteTime": {
     "end_time": "2025-01-23T16:23:52.903697Z",
     "start_time": "2025-01-23T16:23:52.900589Z"
    }
   },
   "outputs": [
    {
     "data": {
      "text/plain": [
       "torch.Size([4])"
      ]
     },
     "execution_count": 7,
     "metadata": {},
     "output_type": "execute_result"
    }
   ],
   "source": [
    "x.shape"
   ]
  },
  {
   "cell_type": "code",
   "execution_count": 8,
   "id": "cd9d524b-4a91-462e-babe-dacc299f7559",
   "metadata": {
    "ExecuteTime": {
     "end_time": "2025-01-23T16:23:52.909673Z",
     "start_time": "2025-01-23T16:23:52.905644Z"
    }
   },
   "outputs": [
    {
     "data": {
      "text/plain": [
       "tensor([[0, 1],\n",
       "        [2, 3]])"
      ]
     },
     "execution_count": 8,
     "metadata": {},
     "output_type": "execute_result"
    }
   ],
   "source": [
    "x = x.reshape(2,2)\n",
    "\n",
    "x"
   ]
  },
  {
   "cell_type": "code",
   "execution_count": 9,
   "id": "8aa2d6bf-7d2b-4e8d-9784-bc3462b1c53d",
   "metadata": {
    "ExecuteTime": {
     "end_time": "2025-01-23T16:23:52.913864Z",
     "start_time": "2025-01-23T16:23:52.910360Z"
    }
   },
   "outputs": [
    {
     "data": {
      "text/plain": [
       "torch.Size([2, 2])"
      ]
     },
     "execution_count": 9,
     "metadata": {},
     "output_type": "execute_result"
    }
   ],
   "source": [
    "x.shape"
   ]
  },
  {
   "cell_type": "markdown",
   "id": "238c0102-4548-4328-98ba-07512332cf70",
   "metadata": {},
   "source": [
    "## 矩阵的转置"
   ]
  },
  {
   "cell_type": "code",
   "execution_count": 10,
   "id": "3bfe0bd4-ff37-400d-a775-4f6d18d073ce",
   "metadata": {
    "ExecuteTime": {
     "end_time": "2025-01-23T16:23:52.919098Z",
     "start_time": "2025-01-23T16:23:52.914707Z"
    }
   },
   "outputs": [
    {
     "data": {
      "text/plain": [
       "tensor([[ 0,  1,  2,  3],\n",
       "        [ 4,  5,  6,  7],\n",
       "        [ 8,  9, 10, 11],\n",
       "        [12, 13, 14, 15],\n",
       "        [16, 17, 18, 19]])"
      ]
     },
     "execution_count": 10,
     "metadata": {},
     "output_type": "execute_result"
    }
   ],
   "source": [
    "A = torch.arange(20).reshape(5, 4)\n",
    "A"
   ]
  },
  {
   "cell_type": "code",
   "execution_count": 11,
   "id": "a088fb46-4f7c-4c32-a82b-e7bba0da8f26",
   "metadata": {
    "ExecuteTime": {
     "end_time": "2025-01-23T16:23:52.926459Z",
     "start_time": "2025-01-23T16:23:52.919890Z"
    }
   },
   "outputs": [
    {
     "data": {
      "text/plain": [
       "tensor([[ 0,  4,  8, 12, 16],\n",
       "        [ 1,  5,  9, 13, 17],\n",
       "        [ 2,  6, 10, 14, 18],\n",
       "        [ 3,  7, 11, 15, 19]])"
      ]
     },
     "execution_count": 11,
     "metadata": {},
     "output_type": "execute_result"
    }
   ],
   "source": [
    "A.T\n",
    "# A矩阵的转置"
   ]
  },
  {
   "cell_type": "markdown",
   "id": "c9379b1e-bb5a-4d68-aa4c-a2ef29387fed",
   "metadata": {},
   "source": [
    "### 对称矩阵 B等于其转置"
   ]
  },
  {
   "cell_type": "code",
   "execution_count": 12,
   "id": "f11d050a-6128-4ace-ad2b-4e06ed1ac675",
   "metadata": {
    "ExecuteTime": {
     "end_time": "2025-01-23T16:23:52.933161Z",
     "start_time": "2025-01-23T16:23:52.929017Z"
    }
   },
   "outputs": [
    {
     "data": {
      "text/plain": [
       "tensor([[1, 2, 3],\n",
       "        [2, 0, 4],\n",
       "        [3, 4, 5]])"
      ]
     },
     "execution_count": 12,
     "metadata": {},
     "output_type": "execute_result"
    }
   ],
   "source": [
    "B = torch.tensor([[1, 2 ,3], [2, 0, 4], [3, 4, 5]])\n",
    "B"
   ]
  },
  {
   "cell_type": "code",
   "execution_count": 13,
   "id": "b25f6c41-9cca-43f7-9953-058ab3994276",
   "metadata": {
    "ExecuteTime": {
     "end_time": "2025-01-23T16:23:52.937065Z",
     "start_time": "2025-01-23T16:23:52.934206Z"
    }
   },
   "outputs": [
    {
     "data": {
      "text/plain": [
       "tensor([[True, True, True],\n",
       "        [True, True, True],\n",
       "        [True, True, True]])"
      ]
     },
     "execution_count": 13,
     "metadata": {},
     "output_type": "execute_result"
    }
   ],
   "source": [
    "B == B.T"
   ]
  },
  {
   "cell_type": "markdown",
   "id": "6743022d-4db6-4dc6-b4ff-6a9c6c068bf7",
   "metadata": {},
   "source": [
    "## 矩阵的运算"
   ]
  },
  {
   "cell_type": "markdown",
   "id": "8068879d-8c1f-4790-b298-36d6a0a0a611",
   "metadata": {
    "jp-MarkdownHeadingCollapsed": true
   },
   "source": [
    "### 一些常规的运算"
   ]
  },
  {
   "cell_type": "code",
   "execution_count": 14,
   "id": "a77b70ea-574a-40bd-8f4a-a29b9e5a51ee",
   "metadata": {
    "ExecuteTime": {
     "end_time": "2025-01-23T16:23:52.942031Z",
     "start_time": "2025-01-23T16:23:52.938138Z"
    }
   },
   "outputs": [
    {
     "data": {
      "text/plain": [
       "tensor([[[ 0,  1,  2,  3],\n",
       "         [ 4,  5,  6,  7],\n",
       "         [ 8,  9, 10, 11]],\n",
       "\n",
       "        [[12, 13, 14, 15],\n",
       "         [16, 17, 18, 19],\n",
       "         [20, 21, 22, 23]]])"
      ]
     },
     "execution_count": 14,
     "metadata": {},
     "output_type": "execute_result"
    }
   ],
   "source": [
    "C = torch.arange(24).reshape(2, 3, 4)\n",
    "C"
   ]
  },
  {
   "cell_type": "code",
   "execution_count": 15,
   "id": "0358dde9-8523-4fde-bacc-b529d1d73e90",
   "metadata": {
    "ExecuteTime": {
     "end_time": "2025-01-23T16:23:52.947448Z",
     "start_time": "2025-01-23T16:23:52.942769Z"
    }
   },
   "outputs": [
    {
     "data": {
      "text/plain": [
       "tensor([[ 0,  1,  2,  3,  4,  5],\n",
       "        [ 6,  7,  8,  9, 10, 11]])"
      ]
     },
     "execution_count": 15,
     "metadata": {},
     "output_type": "execute_result"
    }
   ],
   "source": [
    "D = torch.arange(12).reshape(2, 6)\n",
    "D"
   ]
  },
  {
   "cell_type": "code",
   "execution_count": 16,
   "id": "d98ce7c8-d688-4e4f-aa82-a817581e9e67",
   "metadata": {
    "ExecuteTime": {
     "end_time": "2025-01-23T16:23:52.951922Z",
     "start_time": "2025-01-23T16:23:52.948174Z"
    }
   },
   "outputs": [
    {
     "data": {
      "text/plain": [
       "(tensor([[ 0,  1,  2,  3],\n",
       "         [ 4,  5,  6,  7],\n",
       "         [ 8,  9, 10, 11],\n",
       "         [12, 13, 14, 15],\n",
       "         [16, 17, 18, 19]]),\n",
       " tensor([[ 0,  2,  4,  6],\n",
       "         [ 8, 10, 12, 14],\n",
       "         [16, 18, 20, 22],\n",
       "         [24, 26, 28, 30],\n",
       "         [32, 34, 36, 38]]),\n",
       " False)"
      ]
     },
     "execution_count": 16,
     "metadata": {},
     "output_type": "execute_result"
    }
   ],
   "source": [
    "E = A.clone() \n",
    "# 为E分配了新的地址\n",
    "A, A + E, id(A) == id(E)"
   ]
  },
  {
   "cell_type": "code",
   "execution_count": 17,
   "id": "4913e5d1-ae3d-4de2-bbcc-e1196c77976e",
   "metadata": {
    "ExecuteTime": {
     "end_time": "2025-01-23T16:23:52.956031Z",
     "start_time": "2025-01-23T16:23:52.952599Z"
    }
   },
   "outputs": [
    {
     "data": {
      "text/plain": [
       "tensor([[  0,   1,   4,   9],\n",
       "        [ 16,  25,  36,  49],\n",
       "        [ 64,  81, 100, 121],\n",
       "        [144, 169, 196, 225],\n",
       "        [256, 289, 324, 361]])"
      ]
     },
     "execution_count": 17,
     "metadata": {},
     "output_type": "execute_result"
    }
   ],
   "source": [
    "A * E \n",
    "# 哈达玛积"
   ]
  },
  {
   "cell_type": "code",
   "execution_count": 18,
   "id": "9b32bed7-81c1-4f01-80f0-c11d7b4f480d",
   "metadata": {
    "ExecuteTime": {
     "end_time": "2025-01-23T16:23:52.960249Z",
     "start_time": "2025-01-23T16:23:52.956961Z"
    }
   },
   "outputs": [
    {
     "data": {
      "text/plain": [
       "(tensor([[ 2,  3,  4,  5],\n",
       "         [ 6,  7,  8,  9],\n",
       "         [10, 11, 12, 13],\n",
       "         [14, 15, 16, 17],\n",
       "         [18, 19, 20, 21]]),\n",
       " torch.Size([5, 4]))"
      ]
     },
     "execution_count": 18,
     "metadata": {},
     "output_type": "execute_result"
    }
   ],
   "source": [
    "a = 2\n",
    "a + A, (a * A).shape"
   ]
  },
  {
   "cell_type": "markdown",
   "id": "5f657176-95b4-46ef-af53-13964898a2c3",
   "metadata": {},
   "source": [
    "### 求任意形状张量的元素和"
   ]
  },
  {
   "cell_type": "code",
   "execution_count": 19,
   "id": "5036db3d-102f-4638-b0a1-fb93f33f612f",
   "metadata": {
    "ExecuteTime": {
     "end_time": "2025-01-23T16:23:52.964832Z",
     "start_time": "2025-01-23T16:23:52.960868Z"
    }
   },
   "outputs": [
    {
     "data": {
      "text/plain": [
       "(torch.Size([5, 4]), tensor(190))"
      ]
     },
     "execution_count": 19,
     "metadata": {},
     "output_type": "execute_result"
    }
   ],
   "source": [
    "A.shape, A.sum()"
   ]
  },
  {
   "cell_type": "markdown",
   "id": "a69012eb-8371-4752-aaa4-4c30e519360c",
   "metadata": {},
   "source": [
    "#### 按照指定轴进行元素求和"
   ]
  },
  {
   "cell_type": "code",
   "execution_count": 20,
   "id": "3ad7c626-ba34-4780-9b0b-7c8654f2415b",
   "metadata": {
    "ExecuteTime": {
     "end_time": "2025-01-23T16:23:52.968912Z",
     "start_time": "2025-01-23T16:23:52.965519Z"
    }
   },
   "outputs": [
    {
     "data": {
      "text/plain": [
       "(torch.Size([2, 4, 5]), tensor(780))"
      ]
     },
     "execution_count": 20,
     "metadata": {},
     "output_type": "execute_result"
    }
   ],
   "source": [
    "F = torch.arange(40).reshape(2, 4, 5)\n",
    "F.shape, F.sum()"
   ]
  },
  {
   "cell_type": "code",
   "execution_count": 21,
   "id": "008e01cf-b2af-495a-b5ae-e7bbb8cdf2f5",
   "metadata": {
    "ExecuteTime": {
     "end_time": "2025-01-23T16:23:52.973058Z",
     "start_time": "2025-01-23T16:23:52.969577Z"
    }
   },
   "outputs": [
    {
     "data": {
      "text/plain": [
       "tensor([[[ 0,  1,  2,  3,  4],\n",
       "         [ 5,  6,  7,  8,  9],\n",
       "         [10, 11, 12, 13, 14],\n",
       "         [15, 16, 17, 18, 19]],\n",
       "\n",
       "        [[20, 21, 22, 23, 24],\n",
       "         [25, 26, 27, 28, 29],\n",
       "         [30, 31, 32, 33, 34],\n",
       "         [35, 36, 37, 38, 39]]])"
      ]
     },
     "execution_count": 21,
     "metadata": {},
     "output_type": "execute_result"
    }
   ],
   "source": [
    "F"
   ]
  },
  {
   "cell_type": "markdown",
   "id": "1657852bb9b32da7",
   "metadata": {},
   "source": [
    "- 按照那个维度进行求和，就要消灭哪个维度，最终就没有这个维度啦"
   ]
  },
  {
   "cell_type": "code",
   "execution_count": 22,
   "id": "d943441e-0b3a-4c4a-a507-1d1732464d1b",
   "metadata": {
    "ExecuteTime": {
     "end_time": "2025-01-23T16:23:52.978178Z",
     "start_time": "2025-01-23T16:23:52.973948Z"
    }
   },
   "outputs": [
    {
     "data": {
      "text/plain": [
       "(tensor([[20, 22, 24, 26, 28],\n",
       "         [30, 32, 34, 36, 38],\n",
       "         [40, 42, 44, 46, 48],\n",
       "         [50, 52, 54, 56, 58]]),\n",
       " torch.Size([4, 5]))"
      ]
     },
     "execution_count": 22,
     "metadata": {},
     "output_type": "execute_result"
    }
   ],
   "source": [
    "F_sum_axis0 = F.sum(axis = 0)\n",
    "F_sum_axis0, F_sum_axis0.shape"
   ]
  },
  {
   "cell_type": "code",
   "execution_count": 23,
   "id": "a44ef771-d6cb-4851-8f90-5e62306aa74f",
   "metadata": {
    "ExecuteTime": {
     "end_time": "2025-01-23T16:23:52.983015Z",
     "start_time": "2025-01-23T16:23:52.979262Z"
    }
   },
   "outputs": [
    {
     "data": {
      "text/plain": [
       "(tensor([[ 30,  34,  38,  42,  46],\n",
       "         [110, 114, 118, 122, 126]]),\n",
       " torch.Size([2, 5]))"
      ]
     },
     "execution_count": 23,
     "metadata": {},
     "output_type": "execute_result"
    }
   ],
   "source": [
    "F_sum_axis1 = F.sum(axis = 1)\n",
    "F_sum_axis1, F_sum_axis1.shape"
   ]
  },
  {
   "cell_type": "code",
   "execution_count": 24,
   "id": "029f4c2b-5825-4881-8bb6-7f1ae516cae4",
   "metadata": {
    "ExecuteTime": {
     "end_time": "2025-01-23T16:23:52.987745Z",
     "start_time": "2025-01-23T16:23:52.984090Z"
    }
   },
   "outputs": [
    {
     "data": {
      "text/plain": [
       "(tensor([[ 10,  35,  60,  85],\n",
       "         [110, 135, 160, 185]]),\n",
       " torch.Size([2, 4]))"
      ]
     },
     "execution_count": 24,
     "metadata": {},
     "output_type": "execute_result"
    }
   ],
   "source": [
    "F_sum_axis2 = F.sum(axis = 2)\n",
    "F_sum_axis2, F_sum_axis2.shape"
   ]
  },
  {
   "cell_type": "code",
   "execution_count": 25,
   "id": "5b29c332-3f02-4883-8e51-675380475f89",
   "metadata": {
    "ExecuteTime": {
     "end_time": "2025-01-23T16:23:52.992842Z",
     "start_time": "2025-01-23T16:23:52.988814Z"
    }
   },
   "outputs": [
    {
     "data": {
      "text/plain": [
       "(tensor([140, 148, 156, 164, 172]), torch.Size([5]))"
      ]
     },
     "execution_count": 25,
     "metadata": {},
     "output_type": "execute_result"
    }
   ],
   "source": [
    "F_sum_axis01 = F.sum(axis = [0, 1])\n",
    "F_sum_axis01, F_sum_axis01.shape"
   ]
  },
  {
   "cell_type": "code",
   "execution_count": 26,
   "id": "1d18d83f-9af5-489e-a8a8-aae994b1e6ae",
   "metadata": {
    "ExecuteTime": {
     "end_time": "2025-01-23T16:23:52.997474Z",
     "start_time": "2025-01-23T16:23:52.993562Z"
    }
   },
   "outputs": [
    {
     "data": {
      "text/plain": [
       "(tensor(780), torch.Size([]))"
      ]
     },
     "execution_count": 26,
     "metadata": {},
     "output_type": "execute_result"
    }
   ],
   "source": [
    "F_sum_axis012 = F.sum(axis = [0, 1, 2])\n",
    "F_sum_axis012, F_sum_axis012.shape"
   ]
  },
  {
   "cell_type": "markdown",
   "id": "bf9b29cb-6a06-4b2a-9101-93b3c4f6e08c",
   "metadata": {},
   "source": [
    "### 求矩阵的均值"
   ]
  },
  {
   "cell_type": "code",
   "execution_count": 27,
   "id": "a7a37a60-db3d-4285-90a0-fd470a8511ff",
   "metadata": {
    "ExecuteTime": {
     "end_time": "2025-01-23T16:23:53.003650Z",
     "start_time": "2025-01-23T16:23:52.998390Z"
    }
   },
   "outputs": [
    {
     "data": {
      "text/plain": [
       "(tensor(5.5000), tensor(5.5000))"
      ]
     },
     "execution_count": 27,
     "metadata": {},
     "output_type": "execute_result"
    }
   ],
   "source": [
    "G = torch.arange(12, dtype = torch.float32).reshape(3, 4)\n",
    "G.mean(), G.sum() / G.numel()"
   ]
  },
  {
   "cell_type": "code",
   "execution_count": 28,
   "id": "ea9b1b61-98cd-444d-b29f-3164540a6c1e",
   "metadata": {
    "ExecuteTime": {
     "end_time": "2025-01-23T16:23:53.009781Z",
     "start_time": "2025-01-23T16:23:53.004548Z"
    }
   },
   "outputs": [
    {
     "data": {
      "text/plain": [
       "tensor([[ 0.,  1.,  2.,  3.],\n",
       "        [ 4.,  5.,  6.,  7.],\n",
       "        [ 8.,  9., 10., 11.]])"
      ]
     },
     "execution_count": 28,
     "metadata": {},
     "output_type": "execute_result"
    }
   ],
   "source": [
    "G"
   ]
  },
  {
   "cell_type": "code",
   "execution_count": 29,
   "id": "33879778-0c77-4392-8174-d114927df63b",
   "metadata": {
    "ExecuteTime": {
     "end_time": "2025-01-23T16:23:53.015483Z",
     "start_time": "2025-01-23T16:23:53.010812Z"
    }
   },
   "outputs": [
    {
     "data": {
      "text/plain": [
       "tensor([4., 5., 6., 7.])"
      ]
     },
     "execution_count": 29,
     "metadata": {},
     "output_type": "execute_result"
    }
   ],
   "source": [
    "G.mean(axis = 0)"
   ]
  },
  {
   "cell_type": "code",
   "execution_count": 30,
   "id": "05c78bb7-3feb-4758-bcbe-0775c32c248f",
   "metadata": {
    "ExecuteTime": {
     "end_time": "2025-01-23T16:23:53.027575Z",
     "start_time": "2025-01-23T16:23:53.022793Z"
    }
   },
   "outputs": [
    {
     "data": {
      "text/plain": [
       "tensor([1.5000, 5.5000, 9.5000])"
      ]
     },
     "execution_count": 30,
     "metadata": {},
     "output_type": "execute_result"
    }
   ],
   "source": [
    "G.mean(axis = 1)"
   ]
  },
  {
   "cell_type": "markdown",
   "id": "c14c0e87-3880-4a4c-aa93-883ddcdc91d8",
   "metadata": {},
   "source": [
    "### 计算均值和求和保持轴数不变"
   ]
  },
  {
   "cell_type": "code",
   "execution_count": 31,
   "id": "1991e340-da0e-4d27-a60c-823b0e7507e6",
   "metadata": {
    "ExecuteTime": {
     "end_time": "2025-01-23T16:23:53.033297Z",
     "start_time": "2025-01-23T16:23:53.028705Z"
    }
   },
   "outputs": [
    {
     "data": {
      "text/plain": [
       "tensor([[ 6.],\n",
       "        [22.],\n",
       "        [38.]])"
      ]
     },
     "execution_count": 31,
     "metadata": {},
     "output_type": "execute_result"
    }
   ],
   "source": [
    "# 通过keepdims = True可以保持被消除的那一维度，那一维度保留为1，直观感受为外面会套很多括号\n",
    "sum_G = G.sum(axis = 1, keepdims = True)\n",
    "sum_G"
   ]
  },
  {
   "cell_type": "code",
   "execution_count": 32,
   "id": "a265814c-fb3e-46ac-a213-c5e9109945b9",
   "metadata": {
    "ExecuteTime": {
     "end_time": "2025-01-23T16:23:53.039558Z",
     "start_time": "2025-01-23T16:23:53.034467Z"
    }
   },
   "outputs": [
    {
     "data": {
      "text/plain": [
       "(tensor([[[ 30,  34,  38,  42,  46]],\n",
       " \n",
       "         [[110, 114, 118, 122, 126]]]),\n",
       " torch.Size([2, 1, 5]))"
      ]
     },
     "execution_count": 32,
     "metadata": {},
     "output_type": "execute_result"
    }
   ],
   "source": [
    "sum_F = F.sum(axis = 1, keepdims = True)\n",
    "sum_F, sum_F.shape"
   ]
  },
  {
   "cell_type": "code",
   "execution_count": 33,
   "id": "b7a8dbb2-70e9-4617-9377-4613e97e7fe0",
   "metadata": {
    "ExecuteTime": {
     "end_time": "2025-01-23T16:23:53.045973Z",
     "start_time": "2025-01-23T16:23:53.040897Z"
    }
   },
   "outputs": [
    {
     "data": {
      "text/plain": [
       "(tensor([[ 30,  34,  38,  42,  46],\n",
       "         [110, 114, 118, 122, 126]]),\n",
       " torch.Size([2, 5]))"
      ]
     },
     "execution_count": 33,
     "metadata": {},
     "output_type": "execute_result"
    }
   ],
   "source": [
    "F_sum_axis1 = F.sum(axis = 1)\n",
    "F_sum_axis1, F_sum_axis1.shape"
   ]
  },
  {
   "cell_type": "markdown",
   "id": "1d6d4ee5-1f0f-4716-a2aa-110625c5bde8",
   "metadata": {},
   "source": [
    "### 这样就可以保证在利用广播机制时，两个参加运算的矩阵维度相同，可以进行运算"
   ]
  },
  {
   "cell_type": "code",
   "execution_count": 34,
   "id": "6d68e71c-0b7d-4995-ad40-c4a0d06d04e5",
   "metadata": {
    "ExecuteTime": {
     "end_time": "2025-01-23T16:23:53.053631Z",
     "start_time": "2025-01-23T16:23:53.047152Z"
    }
   },
   "outputs": [
    {
     "data": {
      "text/plain": [
       "tensor([[[0.0000, 0.0294, 0.0526, 0.0714, 0.0870],\n",
       "         [0.1667, 0.1765, 0.1842, 0.1905, 0.1957],\n",
       "         [0.3333, 0.3235, 0.3158, 0.3095, 0.3043],\n",
       "         [0.5000, 0.4706, 0.4474, 0.4286, 0.4130]],\n",
       "\n",
       "        [[0.1818, 0.1842, 0.1864, 0.1885, 0.1905],\n",
       "         [0.2273, 0.2281, 0.2288, 0.2295, 0.2302],\n",
       "         [0.2727, 0.2719, 0.2712, 0.2705, 0.2698],\n",
       "         [0.3182, 0.3158, 0.3136, 0.3115, 0.3095]]])"
      ]
     },
     "execution_count": 34,
     "metadata": {},
     "output_type": "execute_result"
    }
   ],
   "source": [
    "F / sum_F"
   ]
  },
  {
   "cell_type": "code",
   "execution_count": 35,
   "id": "ca08dd60-b05d-45b6-a17a-97257e75a15a",
   "metadata": {
    "ExecuteTime": {
     "end_time": "2025-01-23T16:23:53.059886Z",
     "start_time": "2025-01-23T16:23:53.054912Z"
    }
   },
   "outputs": [
    {
     "data": {
      "text/plain": [
       "tensor([[[ 0,  1,  2,  3,  4],\n",
       "         [ 5,  6,  7,  8,  9],\n",
       "         [10, 11, 12, 13, 14],\n",
       "         [15, 16, 17, 18, 19]],\n",
       "\n",
       "        [[20, 21, 22, 23, 24],\n",
       "         [25, 26, 27, 28, 29],\n",
       "         [30, 31, 32, 33, 34],\n",
       "         [35, 36, 37, 38, 39]]])"
      ]
     },
     "execution_count": 35,
     "metadata": {},
     "output_type": "execute_result"
    }
   ],
   "source": [
    "F"
   ]
  },
  {
   "cell_type": "markdown",
   "id": "24db3dbfc51bc25b",
   "metadata": {},
   "source": [
    "### 矩阵的点积"
   ]
  },
  {
   "cell_type": "code",
   "execution_count": 36,
   "id": "cc3b5bc73bc92944",
   "metadata": {
    "ExecuteTime": {
     "end_time": "2025-01-23T16:23:59.915800Z",
     "start_time": "2025-01-23T16:23:59.897762Z"
    }
   },
   "outputs": [
    {
     "data": {
      "text/plain": [
       "(tensor([0., 1., 2., 3.]), tensor([1., 1., 1., 1.]), tensor(6.))"
      ]
     },
     "execution_count": 36,
     "metadata": {},
     "output_type": "execute_result"
    }
   ],
   "source": [
    "G = torch.arange(4, dtype=torch.float32)\n",
    "H = torch.ones(4, dtype=torch.float32)\n",
    "G, H, torch.dot(G, H)"
   ]
  },
  {
   "cell_type": "code",
   "execution_count": 37,
   "id": "4eada7c66316bd2c",
   "metadata": {
    "ExecuteTime": {
     "end_time": "2025-01-23T16:24:15.577497Z",
     "start_time": "2025-01-23T16:24:15.566771Z"
    }
   },
   "outputs": [
    {
     "data": {
      "text/plain": [
       "tensor(6.)"
      ]
     },
     "execution_count": 37,
     "metadata": {},
     "output_type": "execute_result"
    }
   ],
   "source": [
    "torch.sum(G * H)"
   ]
  },
  {
   "cell_type": "code",
   "execution_count": 38,
   "id": "476fa8322fe08ee1",
   "metadata": {
    "ExecuteTime": {
     "end_time": "2025-01-23T16:24:31.260198Z",
     "start_time": "2025-01-23T16:24:31.255229Z"
    }
   },
   "outputs": [
    {
     "data": {
      "text/plain": [
       "tensor(6.)"
      ]
     },
     "execution_count": 38,
     "metadata": {},
     "output_type": "execute_result"
    }
   ],
   "source": [
    "(G * H).sum()"
   ]
  },
  {
   "cell_type": "code",
   "execution_count": 39,
   "id": "aa8ca1d98df9919c",
   "metadata": {
    "ExecuteTime": {
     "end_time": "2025-01-23T16:29:53.123230Z",
     "start_time": "2025-01-23T16:29:53.109056Z"
    }
   },
   "outputs": [
    {
     "data": {
      "text/plain": [
       "torch.Size([4])"
      ]
     },
     "execution_count": 39,
     "metadata": {},
     "output_type": "execute_result"
    }
   ],
   "source": [
    "G.shape"
   ]
  },
  {
   "cell_type": "markdown",
   "id": "2abf6278219bff5b",
   "metadata": {},
   "source": [
    "### 矩阵和向量的乘法"
   ]
  },
  {
   "cell_type": "code",
   "execution_count": 40,
   "id": "cff715f590b958a5",
   "metadata": {
    "ExecuteTime": {
     "end_time": "2025-01-23T16:51:07.081520Z",
     "start_time": "2025-01-23T16:51:07.077954Z"
    }
   },
   "outputs": [],
   "source": [
    "H = torch.arange(20, dtype=torch.float32).reshape(5, 4)\n",
    "I = torch.arange(4, dtype=torch.float32)"
   ]
  },
  {
   "cell_type": "code",
   "execution_count": 41,
   "id": "2f011d301ddc5e0c",
   "metadata": {
    "ExecuteTime": {
     "end_time": "2025-01-23T16:51:07.698927Z",
     "start_time": "2025-01-23T16:51:07.693797Z"
    }
   },
   "outputs": [
    {
     "data": {
      "text/plain": [
       "tensor([ 14.,  38.,  62.,  86., 110.])"
      ]
     },
     "execution_count": 41,
     "metadata": {},
     "output_type": "execute_result"
    }
   ],
   "source": [
    "torch.mv(H, I)"
   ]
  },
  {
   "cell_type": "code",
   "execution_count": 42,
   "id": "e194bdb232cd5451",
   "metadata": {
    "ExecuteTime": {
     "end_time": "2025-01-23T16:50:53.917453Z",
     "start_time": "2025-01-23T16:50:53.911154Z"
    }
   },
   "outputs": [
    {
     "data": {
      "text/plain": [
       "tensor([ 14.,  38.,  62.,  86., 110.])"
      ]
     },
     "execution_count": 42,
     "metadata": {},
     "output_type": "execute_result"
    }
   ],
   "source": [
    "torch.mv(H, G)"
   ]
  },
  {
   "cell_type": "markdown",
   "id": "450869984abe21e",
   "metadata": {},
   "source": [
    "### 矩阵和矩阵的乘法"
   ]
  },
  {
   "cell_type": "code",
   "execution_count": 43,
   "id": "b98235cdb5052064",
   "metadata": {
    "ExecuteTime": {
     "end_time": "2025-01-23T16:51:51.633887Z",
     "start_time": "2025-01-23T16:51:51.622013Z"
    }
   },
   "outputs": [
    {
     "data": {
      "text/plain": [
       "tensor([[ 70.,  76.,  82.,  88.,  94.],\n",
       "        [190., 212., 234., 256., 278.],\n",
       "        [310., 348., 386., 424., 462.],\n",
       "        [430., 484., 538., 592., 646.],\n",
       "        [550., 620., 690., 760., 830.]])"
      ]
     },
     "execution_count": 43,
     "metadata": {},
     "output_type": "execute_result"
    }
   ],
   "source": [
    "J = torch.arange(20, dtype=torch.float32).reshape(4, 5)\n",
    "torch.mm(H, J)"
   ]
  },
  {
   "cell_type": "markdown",
   "id": "66ad08e4d60b45f1",
   "metadata": {},
   "source": [
    "### 向量和矩阵的范数\n",
    "- norm操作求的是向量的L2范数，矩阵的F范数\n",
    "$$\n",
    "\\|\\mathbf{v}\\|_2 = \\sqrt{\\sum_{i=1}^n v_i^2}\n",
    "$$\n",
    "\n",
    "$$\n",
    "\\|\\mathbf{X}\\|_F = \\sqrt{\\sum_{i=1}^m \\sum_{j=1}^n x_{ij}^2}\n",
    "$$"
   ]
  },
  {
   "cell_type": "code",
   "execution_count": 44,
   "id": "449ae8a606d15eaa",
   "metadata": {
    "ExecuteTime": {
     "end_time": "2025-01-23T16:52:54.875086Z",
     "start_time": "2025-01-23T16:52:54.861099Z"
    }
   },
   "outputs": [
    {
     "data": {
      "text/plain": [
       "tensor(2231.1208)"
      ]
     },
     "execution_count": 44,
     "metadata": {},
     "output_type": "execute_result"
    }
   ],
   "source": [
    "HJnorm = torch.norm(torch.mm(H, J))\n",
    "HJnorm"
   ]
  },
  {
   "cell_type": "code",
   "execution_count": null,
   "id": "597865a1e1b3d283",
   "metadata": {},
   "outputs": [],
   "source": []
  }
 ],
 "metadata": {
  "kernelspec": {
   "display_name": "base",
   "language": "python",
   "name": "python3"
  },
  "language_info": {
   "codemirror_mode": {
    "name": "ipython",
    "version": 3
   },
   "file_extension": ".py",
   "mimetype": "text/x-python",
   "name": "python",
   "nbconvert_exporter": "python",
   "pygments_lexer": "ipython3",
   "version": "3.8.17"
  }
 },
 "nbformat": 4,
 "nbformat_minor": 5
}
