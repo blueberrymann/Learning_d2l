{
 "cells": [
  {
   "cell_type": "markdown",
   "metadata": {},
   "source": [
    "## What is a Tensor?\n",
    "\n",
    "### 创建一个tensor\n",
    "\n",
    "- 常量和向量通常用小写字母来表示\n",
    "- 矩阵和张量通常用大写字母来表示"
   ]
  },
  {
   "cell_type": "code",
   "execution_count": 2,
   "metadata": {},
   "outputs": [],
   "source": [
    "import torch"
   ]
  },
  {
   "cell_type": "code",
   "execution_count": 3,
   "metadata": {},
   "outputs": [
    {
     "name": "stdout",
     "output_type": "stream",
     "text": [
      "2.4.1\n"
     ]
    }
   ],
   "source": [
    "print(torch.__version__)"
   ]
  },
  {
   "cell_type": "code",
   "execution_count": 4,
   "metadata": {},
   "outputs": [],
   "source": [
    "# 创建一个常量，值为7，0维张量\n",
    "scalar = torch.tensor(7)"
   ]
  },
  {
   "cell_type": "code",
   "execution_count": 5,
   "metadata": {},
   "outputs": [
    {
     "data": {
      "text/plain": [
       "tensor(7)"
      ]
     },
     "execution_count": 5,
     "metadata": {},
     "output_type": "execute_result"
    }
   ],
   "source": [
    "scalar"
   ]
  },
  {
   "cell_type": "code",
   "execution_count": 6,
   "metadata": {},
   "outputs": [
    {
     "data": {
      "text/plain": [
       "0"
      ]
     },
     "execution_count": 6,
     "metadata": {},
     "output_type": "execute_result"
    }
   ],
   "source": [
    "scalar.ndim"
   ]
  },
  {
   "cell_type": "code",
   "execution_count": 7,
   "metadata": {},
   "outputs": [],
   "source": [
    "TENSOR = torch.tensor([[[[1, 2, 3],\n",
    "                        [4, 5, 6],\n",
    "                        [7, 8, 9]\n",
    "                        ]]])"
   ]
  },
  {
   "cell_type": "code",
   "execution_count": 8,
   "metadata": {},
   "outputs": [
    {
     "data": {
      "text/plain": [
       "tensor([[[[1, 2, 3],\n",
       "          [4, 5, 6],\n",
       "          [7, 8, 9]]]])"
      ]
     },
     "execution_count": 8,
     "metadata": {},
     "output_type": "execute_result"
    }
   ],
   "source": [
    "TENSOR"
   ]
  },
  {
   "cell_type": "code",
   "execution_count": 9,
   "metadata": {},
   "outputs": [
    {
     "data": {
      "text/plain": [
       "4"
      ]
     },
     "execution_count": 9,
     "metadata": {},
     "output_type": "execute_result"
    }
   ],
   "source": [
    "TENSOR.ndim"
   ]
  },
  {
   "cell_type": "code",
   "execution_count": 10,
   "metadata": {},
   "outputs": [
    {
     "data": {
      "text/plain": [
       "torch.Size([1, 1, 3, 3])"
      ]
     },
     "execution_count": 10,
     "metadata": {},
     "output_type": "execute_result"
    }
   ],
   "source": [
    "TENSOR.shape"
   ]
  },
  {
   "cell_type": "code",
   "execution_count": 11,
   "metadata": {},
   "outputs": [
    {
     "data": {
      "text/plain": [
       "tensor([[[1, 2, 3],\n",
       "         [4, 5, 6],\n",
       "         [7, 8, 9]]])"
      ]
     },
     "execution_count": 11,
     "metadata": {},
     "output_type": "execute_result"
    }
   ],
   "source": [
    "TENSOR[0]"
   ]
  },
  {
   "cell_type": "code",
   "execution_count": 12,
   "metadata": {},
   "outputs": [
    {
     "data": {
      "text/plain": [
       "tensor([[1, 2, 3],\n",
       "        [4, 5, 6],\n",
       "        [7, 8, 9]])"
      ]
     },
     "execution_count": 12,
     "metadata": {},
     "output_type": "execute_result"
    }
   ],
   "source": [
    "TENSOR[0][0]"
   ]
  },
  {
   "cell_type": "code",
   "execution_count": 13,
   "metadata": {},
   "outputs": [
    {
     "data": {
      "text/plain": [
       "tensor([1, 2, 3])"
      ]
     },
     "execution_count": 13,
     "metadata": {},
     "output_type": "execute_result"
    }
   ],
   "source": [
    "TENSOR[0][0][0]"
   ]
  },
  {
   "cell_type": "code",
   "execution_count": 14,
   "metadata": {},
   "outputs": [
    {
     "data": {
      "text/plain": [
       "tensor(1)"
      ]
     },
     "execution_count": 14,
     "metadata": {},
     "output_type": "execute_result"
    }
   ],
   "source": [
    "TENSOR[0][0][0][0]"
   ]
  },
  {
   "cell_type": "markdown",
   "metadata": {},
   "source": [
    "### 创建一个random tensor\n",
    "\n",
    "- 为什么要使用random tensor呢？\n",
    "- 因为许多神经网络的训练都是从random tensor开始的，随机的数能更好的表示数据\n",
    "\n",
    "`start with random numbers -> look at data -> update random numebrs -> look at data -> update random numbers -> ...`\n",
    "\n",
    "Torch.rand - https://docs.pytorch.org/docs/main/generated/torch.rand.html"
   ]
  },
  {
   "cell_type": "code",
   "execution_count": 15,
   "metadata": {},
   "outputs": [],
   "source": [
    "# create a random tensor of size [3, 4]\n",
    "\n",
    "random_tensor = torch.rand(3, 4)"
   ]
  },
  {
   "cell_type": "code",
   "execution_count": 16,
   "metadata": {},
   "outputs": [
    {
     "data": {
      "text/plain": [
       "tensor([[0.3632, 0.0415, 0.1076, 0.9639],\n",
       "        [0.2570, 0.4270, 0.7744, 0.1142],\n",
       "        [0.4779, 0.1927, 0.1899, 0.0685]])"
      ]
     },
     "execution_count": 16,
     "metadata": {},
     "output_type": "execute_result"
    }
   ],
   "source": [
    "random_tensor"
   ]
  },
  {
   "cell_type": "code",
   "execution_count": 17,
   "metadata": {},
   "outputs": [
    {
     "data": {
      "text/plain": [
       "2"
      ]
     },
     "execution_count": 17,
     "metadata": {},
     "output_type": "execute_result"
    }
   ],
   "source": [
    "random_tensor.ndim"
   ]
  },
  {
   "cell_type": "code",
   "execution_count": 18,
   "metadata": {},
   "outputs": [
    {
     "data": {
      "text/plain": [
       "tensor([[[0.3308, 0.1415, 0.5030, 0.3613, 0.6540, 0.8336, 0.5508, 0.8638,\n",
       "          0.4653, 0.1254],\n",
       "         [0.4926, 0.4523, 0.4167, 0.2569, 0.4846, 0.8637, 0.4237, 0.8850,\n",
       "          0.3151, 0.0142],\n",
       "         [0.2854, 0.7155, 0.9417, 0.8119, 0.1542, 0.1588, 0.9664, 0.4667,\n",
       "          0.6105, 0.5095],\n",
       "         [0.4363, 0.5503, 0.2518, 0.7999, 0.7144, 0.5724, 0.3987, 0.1883,\n",
       "          0.5680, 0.8450],\n",
       "         [0.3953, 0.1621, 0.1947, 0.5358, 0.2095, 0.0667, 0.1309, 0.6713,\n",
       "          0.4320, 0.6596],\n",
       "         [0.1304, 0.4189, 0.0031, 0.3603, 0.3798, 0.2859, 0.8934, 0.7223,\n",
       "          0.5009, 0.4970],\n",
       "         [0.6854, 0.1719, 0.1607, 0.1517, 0.0559, 0.4965, 0.0301, 0.8852,\n",
       "          0.5914, 0.1151],\n",
       "         [0.5693, 0.7134, 0.5214, 0.2961, 0.5516, 0.6435, 0.3989, 0.7839,\n",
       "          0.4686, 0.3171],\n",
       "         [0.2603, 0.9124, 0.4190, 0.5710, 0.5978, 0.7419, 0.9724, 0.2257,\n",
       "          0.2878, 0.3130],\n",
       "         [0.5200, 0.8792, 0.6587, 0.2655, 0.6310, 0.9515, 0.9581, 0.6098,\n",
       "          0.0817, 0.9511]],\n",
       "\n",
       "        [[0.8992, 0.0856, 0.0341, 0.6560, 0.9104, 0.3861, 0.6833, 0.5437,\n",
       "          0.2243, 0.8959],\n",
       "         [0.5331, 0.1866, 0.2696, 0.4973, 0.5997, 0.2502, 0.9597, 0.2301,\n",
       "          0.3260, 0.4686],\n",
       "         [0.6585, 0.0106, 0.7425, 0.6824, 0.4893, 0.9605, 0.4191, 0.8587,\n",
       "          0.2735, 0.6926],\n",
       "         [0.8353, 0.5735, 0.9046, 0.2165, 0.1917, 0.2957, 0.8432, 0.1244,\n",
       "          0.6429, 0.1817],\n",
       "         [0.6859, 0.5216, 0.6824, 0.4585, 0.1470, 0.6402, 0.1845, 0.1154,\n",
       "          0.3153, 0.8855],\n",
       "         [0.6305, 0.4137, 0.2218, 0.5702, 0.5987, 0.8743, 0.0074, 0.9183,\n",
       "          0.1008, 0.7407],\n",
       "         [0.1028, 0.9814, 0.4382, 0.3039, 0.7042, 0.2968, 0.0170, 0.9692,\n",
       "          0.1221, 0.0749],\n",
       "         [0.0491, 0.4395, 0.2056, 0.9895, 0.2649, 0.7913, 0.5099, 0.1578,\n",
       "          0.7340, 0.9357],\n",
       "         [0.8749, 0.9990, 0.1865, 0.1145, 0.1640, 0.7183, 0.6558, 0.6929,\n",
       "          0.8264, 0.5909],\n",
       "         [0.7906, 0.7215, 0.7353, 0.7175, 0.1451, 0.3012, 0.3439, 0.6827,\n",
       "          0.7727, 0.4834]],\n",
       "\n",
       "        [[0.9630, 0.6115, 0.0383, 0.5566, 0.8601, 0.7274, 0.6954, 0.1462,\n",
       "          0.0133, 0.4239],\n",
       "         [0.2042, 0.9486, 0.7438, 0.6977, 0.2614, 0.2865, 0.0469, 0.4490,\n",
       "          0.1711, 0.4506],\n",
       "         [0.2552, 0.1024, 0.2711, 0.1439, 0.3787, 0.4582, 0.6202, 0.2493,\n",
       "          0.2137, 0.9597],\n",
       "         [0.4579, 0.6230, 0.8583, 0.1438, 0.2466, 0.5355, 0.3469, 0.8181,\n",
       "          0.9062, 0.3327],\n",
       "         [0.7565, 0.5941, 0.6542, 0.0427, 0.2789, 0.5296, 0.8793, 0.9520,\n",
       "          0.6482, 0.4976],\n",
       "         [0.1219, 0.8987, 0.7749, 0.3233, 0.5863, 0.1604, 0.2786, 0.8927,\n",
       "          0.8112, 0.0709],\n",
       "         [0.2676, 0.6321, 0.9230, 0.6088, 0.6028, 0.4122, 0.0709, 0.0286,\n",
       "          0.7832, 0.7993],\n",
       "         [0.7955, 0.4193, 0.7251, 0.3649, 0.2183, 0.8541, 0.6639, 0.6487,\n",
       "          0.3033, 0.3294],\n",
       "         [0.5318, 0.5004, 0.9375, 0.8080, 0.7866, 0.8450, 0.9391, 0.0173,\n",
       "          0.1591, 0.1798],\n",
       "         [0.2666, 0.0542, 0.7986, 0.9729, 0.9422, 0.8931, 0.4124, 0.2844,\n",
       "          0.4578, 0.3654]],\n",
       "\n",
       "        [[0.4646, 0.8206, 0.8411, 0.0278, 0.7816, 0.4527, 0.5782, 0.9628,\n",
       "          0.1176, 0.3835],\n",
       "         [0.4747, 0.0217, 0.0654, 0.8694, 0.9123, 0.8652, 0.7723, 0.3810,\n",
       "          0.5881, 0.8805],\n",
       "         [0.4627, 0.1340, 0.2758, 0.4429, 0.0187, 0.3612, 0.8939, 0.2977,\n",
       "          0.6892, 0.3540],\n",
       "         [0.8590, 0.9523, 0.3387, 0.0843, 0.7428, 0.3782, 0.8649, 0.7777,\n",
       "          0.0683, 0.6941],\n",
       "         [0.9571, 0.4416, 0.4162, 0.7019, 0.9537, 0.2913, 0.0524, 0.4709,\n",
       "          0.4984, 0.3644],\n",
       "         [0.2874, 0.3346, 0.4131, 0.2283, 0.3090, 0.9256, 0.7652, 0.6085,\n",
       "          0.4297, 0.8821],\n",
       "         [0.3905, 0.1971, 0.6153, 0.5812, 0.4619, 0.8461, 0.2040, 0.8640,\n",
       "          0.7250, 0.0948],\n",
       "         [0.7743, 0.1791, 0.3875, 0.3140, 0.6594, 0.1803, 0.8074, 0.4949,\n",
       "          0.4905, 0.4801],\n",
       "         [0.6085, 0.9632, 0.3137, 0.5560, 0.4759, 0.0139, 0.7639, 0.2776,\n",
       "          0.8322, 0.2877],\n",
       "         [0.5466, 0.5857, 0.4126, 0.2471, 0.3617, 0.3233, 0.8132, 0.8516,\n",
       "          0.9412, 0.9792]],\n",
       "\n",
       "        [[0.6419, 0.3163, 0.8394, 0.2854, 0.7029, 0.4132, 0.5080, 0.1747,\n",
       "          0.7269, 0.3672],\n",
       "         [0.7997, 0.3563, 0.6598, 0.1717, 0.7086, 0.0527, 0.7359, 0.5442,\n",
       "          0.5768, 0.3219],\n",
       "         [0.4885, 0.6702, 0.6682, 0.6109, 0.1147, 0.3935, 0.6813, 0.7025,\n",
       "          0.3208, 0.1986],\n",
       "         [0.5898, 0.7702, 0.1341, 0.9311, 0.7593, 0.2715, 0.2169, 0.1446,\n",
       "          0.6934, 0.0556],\n",
       "         [0.6196, 0.1798, 0.1534, 0.3306, 0.1632, 0.9482, 0.9605, 0.6261,\n",
       "          0.0590, 0.0852],\n",
       "         [0.9159, 0.1025, 0.3166, 0.8113, 0.6817, 0.5382, 0.5598, 0.3912,\n",
       "          0.3514, 0.5233],\n",
       "         [0.9627, 0.0599, 0.7446, 0.7954, 0.5740, 0.1748, 0.2923, 0.4928,\n",
       "          0.8973, 0.8970],\n",
       "         [0.7627, 0.2728, 0.4329, 0.6153, 0.8761, 0.0290, 0.7624, 0.8688,\n",
       "          0.9659, 0.6946],\n",
       "         [0.5290, 0.4163, 0.6025, 0.7650, 0.0239, 0.4962, 0.6250, 0.8960,\n",
       "          0.6990, 0.7015],\n",
       "         [0.2691, 0.6911, 0.4208, 0.8771, 0.1861, 0.3459, 0.9453, 0.1720,\n",
       "          0.1974, 0.3249]],\n",
       "\n",
       "        [[0.9735, 0.5520, 0.5207, 0.8711, 0.9977, 0.8654, 0.4802, 0.3973,\n",
       "          0.1764, 0.6143],\n",
       "         [0.0435, 0.8627, 0.9889, 0.3640, 0.1594, 0.4561, 0.9645, 0.1889,\n",
       "          0.6235, 0.5421],\n",
       "         [0.7251, 0.6504, 0.8187, 0.4190, 0.7390, 0.6573, 0.7003, 0.8825,\n",
       "          0.6010, 0.5387],\n",
       "         [0.5772, 0.0282, 0.2951, 0.0920, 0.6299, 0.5592, 0.0819, 0.6246,\n",
       "          0.1269, 0.4760],\n",
       "         [0.1079, 0.1215, 0.1491, 0.2041, 0.8993, 0.8886, 0.5741, 0.3774,\n",
       "          0.2744, 0.9236],\n",
       "         [0.7247, 0.8590, 0.7328, 0.6863, 0.5899, 0.2803, 0.7159, 0.3557,\n",
       "          0.2508, 0.3215],\n",
       "         [0.2553, 0.7562, 0.0900, 0.6522, 0.4132, 0.6499, 0.7455, 0.7961,\n",
       "          0.5274, 0.0184],\n",
       "         [0.4837, 0.4805, 0.5013, 0.1950, 0.4813, 0.6563, 0.5539, 0.5873,\n",
       "          0.0472, 0.3071],\n",
       "         [0.5773, 0.8846, 0.0511, 0.5012, 0.8146, 0.5241, 0.8791, 0.2490,\n",
       "          0.2692, 0.3207],\n",
       "         [0.5215, 0.8420, 0.3193, 0.9066, 0.1805, 0.9727, 0.5679, 0.0067,\n",
       "          0.8692, 0.2275]],\n",
       "\n",
       "        [[0.9962, 0.2685, 0.9427, 0.7806, 0.5813, 0.8429, 0.3835, 0.7323,\n",
       "          0.3503, 0.5775],\n",
       "         [0.5566, 0.2841, 0.6173, 0.6637, 0.2789, 0.6773, 0.3156, 0.6935,\n",
       "          0.5462, 0.3075],\n",
       "         [0.4034, 0.6783, 0.5266, 0.5678, 0.6264, 0.4577, 0.6097, 0.2310,\n",
       "          0.3759, 0.0230],\n",
       "         [0.9355, 0.5378, 0.4227, 0.8463, 0.5677, 0.7322, 0.0726, 0.5610,\n",
       "          0.4946, 0.9001],\n",
       "         [0.3670, 0.7803, 0.0398, 0.3139, 0.1299, 0.2555, 0.7542, 0.8582,\n",
       "          0.4309, 0.4750],\n",
       "         [0.2553, 0.2335, 0.2219, 0.0505, 0.6378, 0.3559, 0.6956, 0.2696,\n",
       "          0.9362, 0.3016],\n",
       "         [0.6014, 0.4886, 0.6410, 0.4158, 0.1875, 0.6656, 0.5684, 0.9318,\n",
       "          0.3857, 0.5395],\n",
       "         [0.2833, 0.8360, 0.6380, 0.6925, 0.4994, 0.6219, 0.2966, 0.5316,\n",
       "          0.5854, 0.2247],\n",
       "         [0.7420, 0.6969, 0.5730, 0.5218, 0.6150, 0.7671, 0.4367, 0.6710,\n",
       "          0.4479, 0.2492],\n",
       "         [0.5700, 0.1960, 0.3157, 0.8132, 0.4962, 0.0414, 0.5811, 0.5494,\n",
       "          0.4832, 0.0083]],\n",
       "\n",
       "        [[0.1104, 0.7777, 0.6793, 0.5607, 0.4132, 0.4627, 0.8363, 0.8677,\n",
       "          0.8624, 0.8598],\n",
       "         [0.2294, 0.1846, 0.3843, 0.5084, 0.3746, 0.5621, 0.0487, 0.7350,\n",
       "          0.2483, 0.7022],\n",
       "         [0.3893, 0.1402, 0.3206, 0.9289, 0.8389, 0.3450, 0.8755, 0.2437,\n",
       "          0.5277, 0.8330],\n",
       "         [0.2815, 0.1112, 0.1324, 0.9966, 0.1979, 0.8838, 0.3850, 0.6962,\n",
       "          0.2023, 0.2360],\n",
       "         [0.2887, 0.4200, 0.4828, 0.7962, 0.3037, 0.2935, 0.5167, 0.0343,\n",
       "          0.9987, 0.5570],\n",
       "         [0.6060, 0.1814, 0.6382, 0.6267, 0.4271, 0.0174, 0.3650, 0.9127,\n",
       "          0.8978, 0.0907],\n",
       "         [0.6256, 0.0696, 0.8169, 0.4846, 0.5073, 0.3520, 0.7746, 0.2917,\n",
       "          0.3130, 0.0258],\n",
       "         [0.8451, 0.8458, 0.7944, 0.7271, 0.4702, 0.9297, 0.4469, 0.8123,\n",
       "          0.3449, 0.6528],\n",
       "         [0.8747, 0.4962, 0.4299, 0.5181, 0.8330, 0.0258, 0.3723, 0.5274,\n",
       "          0.8069, 0.2984],\n",
       "         [0.1772, 0.5258, 0.6738, 0.5722, 0.3404, 0.4885, 0.2556, 0.9447,\n",
       "          0.6233, 0.9923]],\n",
       "\n",
       "        [[0.8757, 0.9682, 0.5647, 0.9300, 0.0931, 0.0480, 0.2040, 0.9264,\n",
       "          0.2751, 0.7114],\n",
       "         [0.8142, 0.1459, 0.2419, 0.7603, 0.3465, 0.0927, 0.3770, 0.2037,\n",
       "          0.2607, 0.6622],\n",
       "         [0.5336, 0.3167, 0.5270, 0.6952, 0.3315, 0.9735, 0.8220, 0.1609,\n",
       "          0.2976, 0.8662],\n",
       "         [0.1224, 0.9715, 0.3521, 0.9716, 0.7716, 0.8967, 0.0761, 0.9059,\n",
       "          0.8019, 0.5504],\n",
       "         [0.7257, 0.3568, 0.0272, 0.5833, 0.6949, 0.7264, 0.0391, 0.8850,\n",
       "          0.8850, 0.9608],\n",
       "         [0.0026, 0.4916, 0.1839, 0.5669, 0.9575, 0.0332, 0.2117, 0.3801,\n",
       "          0.2810, 0.8460],\n",
       "         [0.9538, 0.5688, 0.0771, 0.6368, 0.9925, 0.1786, 0.9051, 0.5322,\n",
       "          0.8069, 0.2154],\n",
       "         [0.9462, 0.2868, 0.1744, 0.3248, 0.6568, 0.9816, 0.9067, 0.5882,\n",
       "          0.3749, 0.3531],\n",
       "         [0.9177, 0.7662, 0.8673, 0.1707, 0.7727, 0.5206, 0.9783, 0.0884,\n",
       "          0.9552, 0.9331],\n",
       "         [0.7923, 0.3042, 0.5894, 0.3628, 0.3217, 0.7769, 0.3605, 0.0778,\n",
       "          0.9199, 0.8906]],\n",
       "\n",
       "        [[0.6206, 0.2656, 0.7775, 0.3522, 0.8758, 0.9714, 0.5351, 0.8844,\n",
       "          0.7266, 0.6704],\n",
       "         [0.2622, 0.3850, 0.5663, 0.7716, 0.3034, 0.3517, 0.9329, 0.1689,\n",
       "          0.6851, 0.9547],\n",
       "         [0.9345, 0.4334, 0.5443, 0.0464, 0.3193, 0.7789, 0.6533, 0.8728,\n",
       "          0.6742, 0.8866],\n",
       "         [0.8663, 0.2122, 0.4268, 0.2848, 0.5877, 0.0909, 0.2294, 0.7211,\n",
       "          0.5027, 0.6123],\n",
       "         [0.3409, 0.1387, 0.2305, 0.5583, 0.4694, 0.8822, 0.7179, 0.2254,\n",
       "          0.3549, 0.8467],\n",
       "         [0.9352, 0.5184, 0.8910, 0.6427, 0.2797, 0.6750, 0.8490, 0.7604,\n",
       "          0.0306, 0.8338],\n",
       "         [0.9668, 0.2787, 0.5227, 0.1157, 0.6113, 0.1473, 0.8817, 0.0199,\n",
       "          0.8438, 0.7661],\n",
       "         [0.6776, 0.9737, 0.8828, 0.9914, 0.0196, 0.9704, 0.6007, 0.7171,\n",
       "          0.1210, 0.7282],\n",
       "         [0.0852, 0.3643, 0.3564, 0.4092, 0.6285, 0.6751, 0.5044, 0.9453,\n",
       "          0.8298, 0.4801],\n",
       "         [0.7610, 0.2586, 0.6890, 0.9521, 0.7763, 0.6616, 0.0108, 0.9157,\n",
       "          0.8964, 0.2360]]])"
      ]
     },
     "execution_count": 18,
     "metadata": {},
     "output_type": "execute_result"
    }
   ],
   "source": [
    "random_tensor_2 = torch.rand(10, 10, 10)\n",
    "random_tensor_2"
   ]
  },
  {
   "cell_type": "code",
   "execution_count": 19,
   "metadata": {},
   "outputs": [
    {
     "data": {
      "text/plain": [
       "3"
      ]
     },
     "execution_count": 19,
     "metadata": {},
     "output_type": "execute_result"
    }
   ],
   "source": [
    "random_tensor_2.ndim"
   ]
  },
  {
   "cell_type": "code",
   "execution_count": 20,
   "metadata": {},
   "outputs": [
    {
     "data": {
      "text/plain": [
       "(torch.Size([224, 224, 3]), torch.Size([224, 224, 3]), 3)"
      ]
     },
     "execution_count": 20,
     "metadata": {},
     "output_type": "execute_result"
    }
   ],
   "source": [
    "random_image_size_tensor = torch.rand(size=(224, 224, 3))\n",
    "# height, width, color channels(rgb)\n",
    "random_image_size_tensor.shape, random_image_size_tensor.size(), random_image_size_tensor.ndim"
   ]
  },
  {
   "cell_type": "markdown",
   "metadata": {},
   "source": [
    "### zeros and ones tensor\n"
   ]
  },
  {
   "cell_type": "code",
   "execution_count": 21,
   "metadata": {},
   "outputs": [
    {
     "data": {
      "text/plain": [
       "tensor([[0., 0., 0., 0.],\n",
       "        [0., 0., 0., 0.],\n",
       "        [0., 0., 0., 0.]])"
      ]
     },
     "execution_count": 21,
     "metadata": {},
     "output_type": "execute_result"
    }
   ],
   "source": [
    "# creating a tensor of all zeros\n",
    "zeros = torch.zeros(size = (3, 4))\n",
    "zeros"
   ]
  },
  {
   "cell_type": "code",
   "execution_count": 22,
   "metadata": {},
   "outputs": [
    {
     "data": {
      "text/plain": [
       "tensor([[0., 0., 0., 0.],\n",
       "        [0., 0., 0., 0.],\n",
       "        [0., 0., 0., 0.]])"
      ]
     },
     "execution_count": 22,
     "metadata": {},
     "output_type": "execute_result"
    }
   ],
   "source": [
    "zeros * random_tensor"
   ]
  },
  {
   "cell_type": "code",
   "execution_count": 23,
   "metadata": {},
   "outputs": [
    {
     "data": {
      "text/plain": [
       "tensor([[1., 1., 1., 1.],\n",
       "        [1., 1., 1., 1.],\n",
       "        [1., 1., 1., 1.]])"
      ]
     },
     "execution_count": 23,
     "metadata": {},
     "output_type": "execute_result"
    }
   ],
   "source": [
    "ones = torch.ones(3, 4)\n",
    "ones"
   ]
  },
  {
   "cell_type": "code",
   "execution_count": 24,
   "metadata": {},
   "outputs": [
    {
     "data": {
      "text/plain": [
       "tensor([[0.3632, 0.0415, 0.1076, 0.9639],\n",
       "        [0.2570, 0.4270, 0.7744, 0.1142],\n",
       "        [0.4779, 0.1927, 0.1899, 0.0685]])"
      ]
     },
     "execution_count": 24,
     "metadata": {},
     "output_type": "execute_result"
    }
   ],
   "source": [
    "ones * random_tensor"
   ]
  },
  {
   "cell_type": "code",
   "execution_count": 25,
   "metadata": {},
   "outputs": [
    {
     "data": {
      "text/plain": [
       "tensor([1.0981, 0.6613, 1.0719, 1.1466])"
      ]
     },
     "execution_count": 25,
     "metadata": {},
     "output_type": "execute_result"
    }
   ],
   "source": [
    "random_tensor.sum(axis = 0)"
   ]
  },
  {
   "cell_type": "code",
   "execution_count": 26,
   "metadata": {},
   "outputs": [
    {
     "data": {
      "text/plain": [
       "torch.float32"
      ]
     },
     "execution_count": 26,
     "metadata": {},
     "output_type": "execute_result"
    }
   ],
   "source": [
    "ones.dtype"
   ]
  },
  {
   "cell_type": "markdown",
   "metadata": {},
   "source": [
    "### Creating a range of tensor and tensors-like"
   ]
  },
  {
   "cell_type": "code",
   "execution_count": 27,
   "metadata": {},
   "outputs": [
    {
     "data": {
      "text/plain": [
       "tensor([ 1,  2,  3,  4,  5,  6,  7,  8,  9, 10])"
      ]
     },
     "execution_count": 27,
     "metadata": {},
     "output_type": "execute_result"
    }
   ],
   "source": [
    "one_to_ten = torch.arange(1, 11)\n",
    "one_to_ten"
   ]
  },
  {
   "cell_type": "code",
   "execution_count": 28,
   "metadata": {},
   "outputs": [
    {
     "data": {
      "text/plain": [
       "tensor([  0,  77, 154, 231, 308, 385, 462, 539, 616, 693, 770, 847, 924])"
      ]
     },
     "execution_count": 28,
     "metadata": {},
     "output_type": "execute_result"
    }
   ],
   "source": [
    "zero_to_thousand_step_77 = torch.arange(start=0,\n",
    "                                        end =  1000,\n",
    "                                        step= 77                      \n",
    "                                        )\n",
    "zero_to_thousand_step_77"
   ]
  },
  {
   "cell_type": "code",
   "execution_count": 29,
   "metadata": {},
   "outputs": [
    {
     "data": {
      "text/plain": [
       "tensor([0, 0, 0, 0, 0, 0, 0, 0, 0, 0])"
      ]
     },
     "execution_count": 29,
     "metadata": {},
     "output_type": "execute_result"
    }
   ],
   "source": [
    "# Creating tensors like\n",
    "ten_zeros = torch.zeros_like(input=one_to_ten)\n",
    "ten_zeros"
   ]
  },
  {
   "cell_type": "markdown",
   "metadata": {},
   "source": [
    "## Tensor datatypes\n",
    "\n",
    "- **Note:** Tensor datatypes is one of the 3 big erros you'll run into PyTorch and deep learning\n",
    "1. Tensors not right datatype\n",
    "2. Tensors not right shape\n",
    "3. Tensors not on the right device\n",
    "   1. 如果两个TensorFlow不在一个设备上，一个在CPU上，一个在GPU上\n",
    "\n",
    "### Getting information from tensors(tensor attributes)\n",
    "\n",
    "1. to get datatype from a tensor —— use `tensor.dtype`\n",
    "2. to get shape from a tensor —— use `tensor.shape`\n",
    "3. to get device from a tensor —— use `tensor.device`"
   ]
  },
  {
   "cell_type": "code",
   "execution_count": 30,
   "metadata": {},
   "outputs": [
    {
     "data": {
      "text/plain": [
       "torch.float32"
      ]
     },
     "execution_count": 30,
     "metadata": {},
     "output_type": "execute_result"
    }
   ],
   "source": [
    "float_32_tensor = torch.tensor([1, 2, 3],\n",
    "                               device=\"cuda\", # What device is your tensor on\n",
    "                               dtype=torch.float32, # What datatype is the tensor\n",
    "                               requires_grad=True) # Whether or not to track gradients with this tensor operations\n",
    "float_32_tensor.dtype"
   ]
  },
  {
   "cell_type": "code",
   "execution_count": 31,
   "metadata": {},
   "outputs": [
    {
     "data": {
      "text/plain": [
       "device(type='cuda', index=0)"
      ]
     },
     "execution_count": 31,
     "metadata": {},
     "output_type": "execute_result"
    }
   ],
   "source": [
    "float_32_tensor.device"
   ]
  },
  {
   "cell_type": "code",
   "execution_count": 32,
   "metadata": {},
   "outputs": [
    {
     "data": {
      "text/plain": [
       "torch.float16"
      ]
     },
     "execution_count": 32,
     "metadata": {},
     "output_type": "execute_result"
    }
   ],
   "source": [
    "float_16_tensor = float_32_tensor.type(torch.half)\n",
    "float_16_tensor.dtype"
   ]
  },
  {
   "cell_type": "code",
   "execution_count": 33,
   "metadata": {},
   "outputs": [],
   "source": [
    "tensor_mul = float_16_tensor * float_32_tensor"
   ]
  },
  {
   "cell_type": "code",
   "execution_count": 34,
   "metadata": {},
   "outputs": [
    {
     "data": {
      "text/plain": [
       "torch.float32"
      ]
     },
     "execution_count": 34,
     "metadata": {},
     "output_type": "execute_result"
    }
   ],
   "source": [
    "tensor_mul.dtype"
   ]
  },
  {
   "cell_type": "code",
   "execution_count": 35,
   "metadata": {},
   "outputs": [
    {
     "data": {
      "text/plain": [
       "tensor([[0.2707, 0.4844, 0.4808, 0.7118],\n",
       "        [0.8277, 0.5665, 0.9264, 0.9869],\n",
       "        [0.6406, 0.3052, 0.2674, 0.8334]])"
      ]
     },
     "execution_count": 35,
     "metadata": {},
     "output_type": "execute_result"
    }
   ],
   "source": [
    "# Creating a tensor\n",
    "some_tensor = torch.rand(3, 4)\n",
    "some_tensor"
   ]
  },
  {
   "cell_type": "code",
   "execution_count": 36,
   "metadata": {},
   "outputs": [
    {
     "name": "stdout",
     "output_type": "stream",
     "text": [
      "tensor([[0.2707, 0.4844, 0.4808, 0.7118],\n",
      "        [0.8277, 0.5665, 0.9264, 0.9869],\n",
      "        [0.6406, 0.3052, 0.2674, 0.8334]])\n",
      "DataType of tensor: torch.float32\n",
      "Shape of tensor: torch.Size([3, 4])\n",
      "Device tensor is on: cpu\n"
     ]
    }
   ],
   "source": [
    "# Find out details about some tensor\n",
    "\n",
    "print(some_tensor)\n",
    "print(f\"DataType of tensor: {some_tensor.dtype}\")\n",
    "print(f\"Shape of tensor: {some_tensor.shape}\")\n",
    "print(f\"Device tensor is on: {some_tensor.device}\")"
   ]
  },
  {
   "cell_type": "markdown",
   "metadata": {},
   "source": [
    "### Manipulating Tensors (tensor operation)\n",
    "\n",
    "Tensor operation include:\n",
    "- 加法\n",
    "- 减法\n",
    "- 乘法\n",
    "- 除法\n",
    "- 矩阵相乘 \n"
   ]
  },
  {
   "cell_type": "code",
   "execution_count": 37,
   "metadata": {},
   "outputs": [
    {
     "data": {
      "text/plain": [
       "tensor([11, 12, 13])"
      ]
     },
     "execution_count": 37,
     "metadata": {},
     "output_type": "execute_result"
    }
   ],
   "source": [
    "# create a tensor\n",
    "\n",
    "tensor = torch.tensor([1, 2, 3])\n",
    "tensor + 10"
   ]
  },
  {
   "cell_type": "code",
   "execution_count": 38,
   "metadata": {},
   "outputs": [
    {
     "data": {
      "text/plain": [
       "tensor([-99, -98, -97])"
      ]
     },
     "execution_count": 38,
     "metadata": {},
     "output_type": "execute_result"
    }
   ],
   "source": [
    "tensor - 100"
   ]
  },
  {
   "cell_type": "code",
   "execution_count": 39,
   "metadata": {},
   "outputs": [
    {
     "data": {
      "text/plain": [
       "tensor([1, 2, 3])"
      ]
     },
     "execution_count": 39,
     "metadata": {},
     "output_type": "execute_result"
    }
   ],
   "source": [
    "tensor"
   ]
  },
  {
   "cell_type": "code",
   "execution_count": 40,
   "metadata": {},
   "outputs": [
    {
     "data": {
      "text/plain": [
       "tensor([1, 2, 3])"
      ]
     },
     "execution_count": 40,
     "metadata": {},
     "output_type": "execute_result"
    }
   ],
   "source": [
    "# multiplication\n",
    "\n",
    "tensor * 10\n",
    "tensor"
   ]
  },
  {
   "cell_type": "code",
   "execution_count": 41,
   "metadata": {},
   "outputs": [
    {
     "data": {
      "text/plain": [
       "tensor([-9, -8, -7])"
      ]
     },
     "execution_count": 41,
     "metadata": {},
     "output_type": "execute_result"
    }
   ],
   "source": [
    "tensor - 10"
   ]
  },
  {
   "cell_type": "code",
   "execution_count": 42,
   "metadata": {},
   "outputs": [
    {
     "name": "stdout",
     "output_type": "stream",
     "text": [
      "tensor([10, 20, 30])\n",
      "tensor([11, 12, 13])\n"
     ]
    }
   ],
   "source": [
    "print(torch.mul(tensor, 10))\n",
    "print(torch.add(tensor, 10))"
   ]
  },
  {
   "cell_type": "markdown",
   "metadata": {},
   "source": [
    "#### Matrix multiplication\n",
    "\n",
    "two main ways of performing multiplication:\n",
    "1. element-wise multiplication\n",
    "2. matrix multiplication\n",
    "\n",
    "There are two main rules that preforming matrix multiplicatoin needs to satisfy:\n",
    "1. The **inner dimensions** must match\n",
    "   1. `(3, 2) @ (3, 2)`报错\n",
    "   2. `(3, 2) @ (2, 3)` 和 `(2, 3) @ (3, 2)`都不会报错\n",
    "2. The resulting matrix has the shape of the **outer dimensions**\n",
    "   1. `(3, 2) @ (2, 3) -> (3, 3)`\n",
    "   2. `(2, 3) @ (3, 2) -> (2, 2)`  "
   ]
  },
  {
   "cell_type": "code",
   "execution_count": 43,
   "metadata": {},
   "outputs": [
    {
     "name": "stdout",
     "output_type": "stream",
     "text": [
      "tensor([1, 2, 3]) * tensor([1, 2, 3])\n",
      "Equels: tensor([1, 4, 9])\n"
     ]
    }
   ],
   "source": [
    "# Element wise multiplication\n",
    "\n",
    "print(tensor, \"*\", tensor)\n",
    "print(f\"Equels: {(tensor * tensor)}\")"
   ]
  },
  {
   "cell_type": "code",
   "execution_count": 44,
   "metadata": {},
   "outputs": [
    {
     "name": "stdout",
     "output_type": "stream",
     "text": [
      "CPU times: total: 0 ns\n",
      "Wall time: 2 ms\n"
     ]
    },
    {
     "data": {
      "text/plain": [
       "tensor(14)"
      ]
     },
     "execution_count": 44,
     "metadata": {},
     "output_type": "execute_result"
    }
   ],
   "source": [
    "%%time\n",
    "value = 0\n",
    "for i in range(len(tensor)):\n",
    "    value += tensor[i] * tensor[i]\n",
    "value"
   ]
  },
  {
   "cell_type": "code",
   "execution_count": 45,
   "metadata": {},
   "outputs": [
    {
     "name": "stdout",
     "output_type": "stream",
     "text": [
      "CPU times: total: 0 ns\n",
      "Wall time: 2 ms\n"
     ]
    },
    {
     "data": {
      "text/plain": [
       "tensor(14)"
      ]
     },
     "execution_count": 45,
     "metadata": {},
     "output_type": "execute_result"
    }
   ],
   "source": [
    "%%time\n",
    "torch.matmul(tensor, tensor)"
   ]
  },
  {
   "cell_type": "code",
   "execution_count": 46,
   "metadata": {},
   "outputs": [],
   "source": [
    "tensor_1 = torch.rand(3, 2)\n",
    "tensor_2 = torch.rand(2, 3)"
   ]
  },
  {
   "cell_type": "code",
   "execution_count": 47,
   "metadata": {},
   "outputs": [
    {
     "name": "stdout",
     "output_type": "stream",
     "text": [
      "CPU times: total: 0 ns\n",
      "Wall time: 6 ms\n"
     ]
    },
    {
     "data": {
      "text/plain": [
       "tensor([[0.5662, 0.8412, 0.1562],\n",
       "        [0.1310, 0.1965, 0.0387],\n",
       "        [0.3997, 0.5935, 0.1097]])"
      ]
     },
     "execution_count": 47,
     "metadata": {},
     "output_type": "execute_result"
    }
   ],
   "source": [
    "%%time\n",
    "torch.matmul(tensor_1, tensor_2)"
   ]
  },
  {
   "cell_type": "markdown",
   "metadata": {},
   "source": [
    "### One of the most common errors in dl: shape errors"
   ]
  },
  {
   "cell_type": "code",
   "execution_count": 48,
   "metadata": {},
   "outputs": [
    {
     "data": {
      "text/plain": [
       "(torch.Size([3, 2]), torch.Size([3, 2]))"
      ]
     },
     "execution_count": 48,
     "metadata": {},
     "output_type": "execute_result"
    }
   ],
   "source": [
    "tensor_A = torch.tensor([[1, 2],\n",
    "                         [3, 4],\n",
    "                         [5, 6]])\n",
    "tensor_B = torch.tensor([[7, 8],\n",
    "                         [9, 10],\n",
    "                         [11, 12]])\n",
    "\n",
    "# torch.mm()\n",
    "tensor_A.shape, tensor_B.shape"
   ]
  },
  {
   "cell_type": "code",
   "execution_count": 49,
   "metadata": {},
   "outputs": [
    {
     "ename": "RuntimeError",
     "evalue": "mat1 and mat2 shapes cannot be multiplied (3x2 and 3x2)",
     "output_type": "error",
     "traceback": [
      "\u001b[1;31m---------------------------------------------------------------------------\u001b[0m",
      "\u001b[1;31mRuntimeError\u001b[0m                              Traceback (most recent call last)",
      "Cell \u001b[1;32mIn[49], line 1\u001b[0m\n\u001b[1;32m----> 1\u001b[0m \u001b[43mtorch\u001b[49m\u001b[38;5;241;43m.\u001b[39;49m\u001b[43mmm\u001b[49m\u001b[43m(\u001b[49m\u001b[43mtensor_A\u001b[49m\u001b[43m,\u001b[49m\u001b[43m \u001b[49m\u001b[43mtensor_B\u001b[49m\u001b[43m)\u001b[49m\n",
      "\u001b[1;31mRuntimeError\u001b[0m: mat1 and mat2 shapes cannot be multiplied (3x2 and 3x2)"
     ]
    }
   ],
   "source": [
    "torch.mm(tensor_A, tensor_B)"
   ]
  },
  {
   "cell_type": "markdown",
   "metadata": {},
   "source": [
    "### 使用transpose\n",
    "\n",
    "- 转置"
   ]
  },
  {
   "cell_type": "code",
   "execution_count": 201,
   "metadata": {},
   "outputs": [
    {
     "data": {
      "text/plain": [
       "tensor([[ 7,  9, 11],\n",
       "        [ 8, 10, 12]])"
      ]
     },
     "execution_count": 201,
     "metadata": {},
     "output_type": "execute_result"
    }
   ],
   "source": [
    "# .T表示transpose\n",
    "\n",
    "tensor_B.T"
   ]
  },
  {
   "cell_type": "code",
   "execution_count": 202,
   "metadata": {},
   "outputs": [
    {
     "data": {
      "text/plain": [
       "tensor([[ 23,  29,  35],\n",
       "        [ 53,  67,  81],\n",
       "        [ 83, 105, 127]])"
      ]
     },
     "execution_count": 202,
     "metadata": {},
     "output_type": "execute_result"
    }
   ],
   "source": [
    "torch.mm(tensor_A, tensor_B.T)"
   ]
  },
  {
   "cell_type": "code",
   "execution_count": 52,
   "metadata": {},
   "outputs": [
    {
     "name": "stdout",
     "output_type": "stream",
     "text": [
      "tensor_A的形状是torch.Size([3, 2]), tensor_B的形状是torch.Size([3, 2])\n",
      "B矩阵转置之后，tensor_A的形状是torch.Size([3, 2])， tensor_B的形状是torch.Size([2, 3])\n",
      "Multiplying torch.Size([3, 2]) @ torch.Size([2, 3])\n",
      "Output: tensor([[ 23,  29,  35],\n",
      "        [ 53,  67,  81],\n",
      "        [ 83, 105, 127]])\n",
      "Output's Shape: torch.Size([3, 3])\n"
     ]
    }
   ],
   "source": [
    "# 当B转置之后， 两个矩阵就可以实现矩阵乘法\n",
    "\n",
    "print(f\"tensor_A的形状是{tensor_A.shape}, tensor_B的形状是{tensor_B.shape}\")\n",
    "print(f\"B矩阵转置之后，tensor_A的形状是{tensor_A.shape}， tensor_B的形状是{tensor_B.T.shape}\")\n",
    "print(f\"Multiplying {tensor_A.shape} @ {tensor_B.T.shape}\")\n",
    "print(f\"Output: {torch.mm(tensor_A, tensor_B.T)}\")\n",
    "print(f\"Output's Shape: {torch.mm(tensor_A, tensor_B.T).shape}\")"
   ]
  },
  {
   "cell_type": "markdown",
   "metadata": {},
   "source": [
    "### Finding the max, min, mean, sum, etc(tensor aggregation)"
   ]
  },
  {
   "cell_type": "code",
   "execution_count": 56,
   "metadata": {},
   "outputs": [
    {
     "data": {
      "text/plain": [
       "(tensor([ 0, 10, 20, 30, 40, 50, 60, 70, 80, 90]), torch.int64)"
      ]
     },
     "execution_count": 56,
     "metadata": {},
     "output_type": "execute_result"
    }
   ],
   "source": [
    "# Create a tensor\n",
    "x = torch.arange(0, 100, 10)\n",
    "x, x.dtype"
   ]
  },
  {
   "cell_type": "code",
   "execution_count": 54,
   "metadata": {},
   "outputs": [
    {
     "data": {
      "text/plain": [
       "(tensor(0), tensor(0))"
      ]
     },
     "execution_count": 54,
     "metadata": {},
     "output_type": "execute_result"
    }
   ],
   "source": [
    "# Find the min\n",
    "x.min(), torch.min(x)"
   ]
  },
  {
   "cell_type": "code",
   "execution_count": 55,
   "metadata": {},
   "outputs": [
    {
     "data": {
      "text/plain": [
       "(tensor(90), tensor(90))"
      ]
     },
     "execution_count": 55,
     "metadata": {},
     "output_type": "execute_result"
    }
   ],
   "source": [
    "# Find the max\n",
    "x.max(), torch.max(x)"
   ]
  },
  {
   "cell_type": "code",
   "execution_count": 57,
   "metadata": {},
   "outputs": [
    {
     "ename": "RuntimeError",
     "evalue": "mean(): could not infer output dtype. Input dtype must be either a floating point or complex dtype. Got: Long",
     "output_type": "error",
     "traceback": [
      "\u001b[1;31m---------------------------------------------------------------------------\u001b[0m",
      "\u001b[1;31mRuntimeError\u001b[0m                              Traceback (most recent call last)",
      "Cell \u001b[1;32mIn[57], line 2\u001b[0m\n\u001b[0;32m      1\u001b[0m \u001b[38;5;66;03m# Find the mean\u001b[39;00m\n\u001b[1;32m----> 2\u001b[0m \u001b[43mx\u001b[49m\u001b[38;5;241;43m.\u001b[39;49m\u001b[43mmean\u001b[49m\u001b[43m(\u001b[49m\u001b[43m)\u001b[49m\n",
      "\u001b[1;31mRuntimeError\u001b[0m: mean(): could not infer output dtype. Input dtype must be either a floating point or complex dtype. Got: Long"
     ]
    }
   ],
   "source": [
    "# Find the mean\n",
    "# 输入的张量元素必须是float32\n",
    "\n",
    "x.mean()"
   ]
  },
  {
   "cell_type": "code",
   "execution_count": 58,
   "metadata": {},
   "outputs": [
    {
     "data": {
      "text/plain": [
       "tensor(45.)"
      ]
     },
     "execution_count": 58,
     "metadata": {},
     "output_type": "execute_result"
    }
   ],
   "source": [
    "x.type(torch.float32).mean()"
   ]
  },
  {
   "cell_type": "code",
   "execution_count": 59,
   "metadata": {},
   "outputs": [
    {
     "data": {
      "text/plain": [
       "(tensor(450), tensor(450))"
      ]
     },
     "execution_count": 59,
     "metadata": {},
     "output_type": "execute_result"
    }
   ],
   "source": [
    "# Find the sum\n",
    "\n",
    "torch.sum(x), x.sum()"
   ]
  },
  {
   "cell_type": "code",
   "execution_count": 60,
   "metadata": {},
   "outputs": [
    {
     "name": "stdout",
     "output_type": "stream",
     "text": [
      "Name: torch\n",
      "Version: 2.4.1\n",
      "Summary: Tensors and Dynamic neural networks in Python with strong GPU acceleration\n",
      "Home-page: https://pytorch.org/\n",
      "Author: PyTorch Team\n",
      "Author-email: packages@pytorch.org\n",
      "License: BSD-3\n",
      "Location: f:\\.conda\\d2l-zh\\lib\\site-packages\n",
      "Requires: filelock, fsspec, jinja2, networkx, sympy, typing-extensions\n",
      "Required-by: torchaudio, torchvision\n"
     ]
    }
   ],
   "source": [
    "!pip show torch"
   ]
  },
  {
   "cell_type": "code",
   "execution_count": 61,
   "metadata": {},
   "outputs": [
    {
     "name": "stdout",
     "output_type": "stream",
     "text": [
      "Name: d2l\n",
      "Version: 1.0.3\n",
      "Summary: Dive into Deep Learning\n",
      "Home-page: https://d2l.ai\n",
      "Author: D2L Developers\n",
      "Author-email: d2l.devs@gmail.com\n",
      "License: MIT-0\n",
      "Location: f:\\.conda\\d2l-zh\\lib\\site-packages\n",
      "Requires: jupyter, matplotlib, matplotlib-inline, numpy, pandas, requests, scipy\n",
      "Required-by: \n"
     ]
    }
   ],
   "source": [
    "!pip show d2l"
   ]
  },
  {
   "cell_type": "code",
   "execution_count": 62,
   "metadata": {},
   "outputs": [
    {
     "data": {
      "text/plain": [
       "tensor([ 0, 10, 20, 30, 40, 50, 60, 70, 80, 90])"
      ]
     },
     "execution_count": 62,
     "metadata": {},
     "output_type": "execute_result"
    }
   ],
   "source": [
    "x"
   ]
  },
  {
   "cell_type": "markdown",
   "metadata": {},
   "source": [
    "发现了一个区别函数和属性的方法：\n",
    "- 在提示中\n",
    "- 属性前面是一个黑板擦\n",
    "- 方法前面是一个立方体"
   ]
  },
  {
   "cell_type": "code",
   "execution_count": 63,
   "metadata": {},
   "outputs": [
    {
     "data": {
      "text/plain": [
       "tensor(0)"
      ]
     },
     "execution_count": 63,
     "metadata": {},
     "output_type": "execute_result"
    }
   ],
   "source": [
    "x.argmin()"
   ]
  },
  {
   "cell_type": "code",
   "execution_count": 65,
   "metadata": {},
   "outputs": [
    {
     "data": {
      "text/plain": [
       "tensor([[0.3234, 0.5551],\n",
       "        [0.4348, 0.6957],\n",
       "        [0.9572, 0.0127],\n",
       "        [0.9403, 0.0761],\n",
       "        [0.1717, 0.8251],\n",
       "        [0.2687, 0.9575],\n",
       "        [0.6368, 0.8102],\n",
       "        [0.6707, 0.2779],\n",
       "        [0.4250, 0.5594],\n",
       "        [0.2983, 0.9217]])"
      ]
     },
     "execution_count": 65,
     "metadata": {},
     "output_type": "execute_result"
    }
   ],
   "source": [
    "tensor_X = torch.rand(size=(10,2))\n",
    "tensor_X"
   ]
  },
  {
   "cell_type": "code",
   "execution_count": 69,
   "metadata": {},
   "outputs": [
    {
     "data": {
      "text/plain": [
       "tensor([4, 2])"
      ]
     },
     "execution_count": 69,
     "metadata": {},
     "output_type": "execute_result"
    }
   ],
   "source": [
    "# dim=0 表示沿着第0维（行）方向找最小值的索引\n",
    "# 返回每列的最小值所在的行索引\n",
    "# 结果是一个形状为[2]的张量，对应tensor_X的两列\n",
    "tensor_X.argmin(dim=0)"
   ]
  },
  {
   "cell_type": "markdown",
   "metadata": {},
   "source": [
    "### Reshaping, stacking, squeezing and unsqueezing tensors\n",
    "\n",
    "- Reshaping: 将输入的tensor改变为指定的形状\n",
    "- View: 功能与reshape类似，但是返回的是原张量的视图\n",
    "- Stacking: 将多个张量沿着新的维度堆叠起来\n",
    "- Squeeze: 移出所有大小为1的维度\n",
    "- Unsqueeze: 在指定位置添加一个大小为1的维度\n",
    "- Permute: 改变张量的维度顺序"
   ]
  },
  {
   "cell_type": "code",
   "execution_count": 70,
   "metadata": {},
   "outputs": [
    {
     "data": {
      "text/plain": [
       "tensor([1., 2., 3., 4., 5., 6., 7., 8., 9.])"
      ]
     },
     "execution_count": 70,
     "metadata": {},
     "output_type": "execute_result"
    }
   ],
   "source": [
    "x = torch.arange(1, 10, dtype=torch.float32)\n",
    "x"
   ]
  },
  {
   "cell_type": "code",
   "execution_count": 72,
   "metadata": {},
   "outputs": [
    {
     "data": {
      "text/plain": [
       "(tensor([[1., 2., 3.],\n",
       "         [4., 5., 6.],\n",
       "         [7., 8., 9.]]),\n",
       " torch.Size([9]))"
      ]
     },
     "execution_count": 72,
     "metadata": {},
     "output_type": "execute_result"
    }
   ],
   "source": [
    "x.reshape(3, 3), x.size()"
   ]
  },
  {
   "cell_type": "code",
   "execution_count": 74,
   "metadata": {},
   "outputs": [
    {
     "data": {
      "text/plain": [
       "tensor([[1., 2., 3., 4., 5., 6., 7., 8., 9.]])"
      ]
     },
     "execution_count": 74,
     "metadata": {},
     "output_type": "execute_result"
    }
   ],
   "source": [
    "# Change the view\n",
    "z = x.view(1, 9)\n",
    "z, z.shape()"
   ]
  },
  {
   "cell_type": "code",
   "execution_count": 75,
   "metadata": {},
   "outputs": [
    {
     "data": {
      "text/plain": [
       "tensor([[5., 2., 3., 4., 5., 6., 7., 8., 9.]])"
      ]
     },
     "execution_count": 75,
     "metadata": {},
     "output_type": "execute_result"
    }
   ],
   "source": [
    "# changing z changes x (because a viwe of z shares the same memory as the original input)\n",
    "z[0][0] = 5\n",
    "z"
   ]
  },
  {
   "cell_type": "code",
   "execution_count": 76,
   "metadata": {},
   "outputs": [
    {
     "data": {
      "text/plain": [
       "tensor([5., 2., 3., 4., 5., 6., 7., 8., 9.])"
      ]
     },
     "execution_count": 76,
     "metadata": {},
     "output_type": "execute_result"
    }
   ],
   "source": [
    "x"
   ]
  },
  {
   "cell_type": "code",
   "execution_count": 78,
   "metadata": {},
   "outputs": [
    {
     "data": {
      "text/plain": [
       "tensor([[5., 2., 3., 4., 5., 6., 7., 8., 9.],\n",
       "        [5., 2., 3., 4., 5., 6., 7., 8., 9.],\n",
       "        [5., 2., 3., 4., 5., 6., 7., 8., 9.],\n",
       "        [5., 2., 3., 4., 5., 6., 7., 8., 9.]])"
      ]
     },
     "execution_count": 78,
     "metadata": {},
     "output_type": "execute_result"
    }
   ],
   "source": [
    "# Stack tensors on top of each other\n",
    "x_stacked = torch.stack([x, x, x, x])\n",
    "x_stacked"
   ]
  },
  {
   "cell_type": "code",
   "execution_count": 79,
   "metadata": {},
   "outputs": [
    {
     "data": {
      "text/plain": [
       "tensor([[5., 5., 5., 5.],\n",
       "        [2., 2., 2., 2.],\n",
       "        [3., 3., 3., 3.],\n",
       "        [4., 4., 4., 4.],\n",
       "        [5., 5., 5., 5.],\n",
       "        [6., 6., 6., 6.],\n",
       "        [7., 7., 7., 7.],\n",
       "        [8., 8., 8., 8.],\n",
       "        [9., 9., 9., 9.]])"
      ]
     },
     "execution_count": 79,
     "metadata": {},
     "output_type": "execute_result"
    }
   ],
   "source": [
    "x_stacked_1 = torch.stack([x, x, x, x], dim=1)\n",
    "x_stacked_1"
   ]
  },
  {
   "cell_type": "code",
   "execution_count": 82,
   "metadata": {},
   "outputs": [
    {
     "data": {
      "text/plain": [
       "(tensor([1., 2., 3., 4., 5., 6., 7., 8., 9.]), torch.Size([9]))"
      ]
     },
     "execution_count": 82,
     "metadata": {},
     "output_type": "execute_result"
    }
   ],
   "source": [
    "x_reshaped = torch.arange(1., 10.)\n",
    "x_reshaped, x_reshaped.shape"
   ]
  },
  {
   "cell_type": "code",
   "execution_count": 85,
   "metadata": {},
   "outputs": [
    {
     "data": {
      "text/plain": [
       "(tensor([[1., 2., 3., 4., 5., 6., 7., 8., 9.]]), torch.Size([1, 9]))"
      ]
     },
     "execution_count": 85,
     "metadata": {},
     "output_type": "execute_result"
    }
   ],
   "source": [
    "x_reshaped = x_reshaped.reshape(1, 9)\n",
    "x_reshaped, x_reshaped.shape"
   ]
  },
  {
   "cell_type": "code",
   "execution_count": 88,
   "metadata": {},
   "outputs": [],
   "source": [
    "x_reshaped.squeeze(), x_reshaped.squeeze().shape\n",
    "x_squeezed = x_reshaped.squeeze()"
   ]
  },
  {
   "cell_type": "code",
   "execution_count": 90,
   "metadata": {},
   "outputs": [
    {
     "name": "stdout",
     "output_type": "stream",
     "text": [
      "Previous squeezed target: tensor([1., 2., 3., 4., 5., 6., 7., 8., 9.])\n",
      "Previous shape: torch.Size([9])\n",
      "\n",
      "New tensor: tensor([[1., 2., 3., 4., 5., 6., 7., 8., 9.]])\n",
      "New shape: torch.Size([1, 9])\n",
      "\n",
      "New tensor: tensor([[1.],\n",
      "        [2.],\n",
      "        [3.],\n",
      "        [4.],\n",
      "        [5.],\n",
      "        [6.],\n",
      "        [7.],\n",
      "        [8.],\n",
      "        [9.]])\n",
      "New shape: torch.Size([9, 1])\n"
     ]
    }
   ],
   "source": [
    "# torch.unsqueezed() -- adda a single dimension to a target tensor at a specific dim\n",
    "\n",
    "print(f\"Previous squeezed target: {x_squeezed}\")\n",
    "print(f\"Previous shape: {x_squeezed.shape}\")\n",
    "\n",
    "\n",
    "# add an extra dimension with unsqueeze\n",
    "x_unsqueezed = x_squeezed.unsqueeze(dim=0)\n",
    "print(f\"\\nNew tensor: {x_unsqueezed}\")\n",
    "print(f\"New shape: {x_unsqueezed.shape}\")\n",
    "\n",
    "\n",
    "x_unsqueezed_1 = x_squeezed.unsqueeze(dim=1)\n",
    "print(f\"\\nNew tensor: {x_unsqueezed_1}\")\n",
    "print(f\"New shape: {x_unsqueezed_1.shape}\")"
   ]
  },
  {
   "cell_type": "code",
   "execution_count": 93,
   "metadata": {},
   "outputs": [
    {
     "data": {
      "text/plain": [
       "torch.Size([3, 4, 5])"
      ]
     },
     "execution_count": 93,
     "metadata": {},
     "output_type": "execute_result"
    }
   ],
   "source": [
    "# torch.permute - rearranges the dimensions of a target tensor in a specified order\n",
    "x_original =  torch.rand(size=(3, 4, 5))\n",
    "x_original.shape"
   ]
  },
  {
   "cell_type": "code",
   "execution_count": 94,
   "metadata": {},
   "outputs": [
    {
     "data": {
      "text/plain": [
       "torch.Size([5, 3, 4])"
      ]
     },
     "execution_count": 94,
     "metadata": {},
     "output_type": "execute_result"
    }
   ],
   "source": [
    "# 使用permute操作\n",
    "# 将原来第2维度的放在新的第0维度\n",
    "# 原来第0维度放在新的第1维度\n",
    "# 原来第1维度放在新的第2维度\n",
    "x_permuted = x_original.permute(2, 0, 1)\n",
    "x_permuted.shape"
   ]
  },
  {
   "cell_type": "markdown",
   "metadata": {},
   "source": [
    "### Indexing(selecting data from tensors)\n"
   ]
  },
  {
   "cell_type": "code",
   "execution_count": 97,
   "metadata": {},
   "outputs": [
    {
     "data": {
      "text/plain": [
       "(tensor([[[1, 2, 3],\n",
       "          [4, 5, 6],\n",
       "          [7, 8, 9]]]),\n",
       " torch.Size([1, 3, 3]))"
      ]
     },
     "execution_count": 97,
     "metadata": {},
     "output_type": "execute_result"
    }
   ],
   "source": [
    "x = torch.arange(1, 10).reshape(shape=(1, 3, 3))\n",
    "x, x.shape"
   ]
  },
  {
   "cell_type": "code",
   "execution_count": 99,
   "metadata": {},
   "outputs": [
    {
     "data": {
      "text/plain": [
       "tensor([[1, 2, 3],\n",
       "        [4, 5, 6],\n",
       "        [7, 8, 9]])"
      ]
     },
     "execution_count": 99,
     "metadata": {},
     "output_type": "execute_result"
    }
   ],
   "source": [
    "x[0]"
   ]
  },
  {
   "cell_type": "code",
   "execution_count": 101,
   "metadata": {},
   "outputs": [
    {
     "data": {
      "text/plain": [
       "(tensor([1, 2, 3]), tensor([1, 2, 3]))"
      ]
     },
     "execution_count": 101,
     "metadata": {},
     "output_type": "execute_result"
    }
   ],
   "source": [
    "x[0][0], x[0, 0]"
   ]
  },
  {
   "cell_type": "code",
   "execution_count": 102,
   "metadata": {},
   "outputs": [
    {
     "data": {
      "text/plain": [
       "tensor(1)"
      ]
     },
     "execution_count": 102,
     "metadata": {},
     "output_type": "execute_result"
    }
   ],
   "source": [
    "x[0][0][0]"
   ]
  },
  {
   "cell_type": "code",
   "execution_count": 103,
   "metadata": {},
   "outputs": [
    {
     "data": {
      "text/plain": [
       "tensor([[[1, 2, 3],\n",
       "         [4, 5, 6],\n",
       "         [7, 8, 9]]])"
      ]
     },
     "execution_count": 103,
     "metadata": {},
     "output_type": "execute_result"
    }
   ],
   "source": [
    "x[:]"
   ]
  },
  {
   "cell_type": "code",
   "execution_count": 104,
   "metadata": {},
   "outputs": [
    {
     "data": {
      "text/plain": [
       "tensor([[4, 5, 6]])"
      ]
     },
     "execution_count": 104,
     "metadata": {},
     "output_type": "execute_result"
    }
   ],
   "source": [
    "x[:, 1]"
   ]
  },
  {
   "cell_type": "code",
   "execution_count": 105,
   "metadata": {},
   "outputs": [
    {
     "data": {
      "text/plain": [
       "tensor([[2, 5, 8]])"
      ]
     },
     "execution_count": 105,
     "metadata": {},
     "output_type": "execute_result"
    }
   ],
   "source": [
    "x[:, :, 1]"
   ]
  },
  {
   "cell_type": "code",
   "execution_count": 106,
   "metadata": {},
   "outputs": [
    {
     "data": {
      "text/plain": [
       "tensor([5])"
      ]
     },
     "execution_count": 106,
     "metadata": {},
     "output_type": "execute_result"
    }
   ],
   "source": [
    "x[:, 1, 1]"
   ]
  },
  {
   "cell_type": "code",
   "execution_count": 107,
   "metadata": {},
   "outputs": [
    {
     "data": {
      "text/plain": [
       "tensor([1, 2, 3])"
      ]
     },
     "execution_count": 107,
     "metadata": {},
     "output_type": "execute_result"
    }
   ],
   "source": [
    "x[0, 0, :]"
   ]
  },
  {
   "cell_type": "code",
   "execution_count": null,
   "metadata": {},
   "outputs": [],
   "source": []
  }
 ],
 "metadata": {
  "kernelspec": {
   "display_name": "d2l-zh",
   "language": "python",
   "name": "python3"
  },
  "language_info": {
   "codemirror_mode": {
    "name": "ipython",
    "version": 3
   },
   "file_extension": ".py",
   "mimetype": "text/x-python",
   "name": "python",
   "nbconvert_exporter": "python",
   "pygments_lexer": "ipython3",
   "version": "3.8.20"
  }
 },
 "nbformat": 4,
 "nbformat_minor": 2
}
