{
 "cells": [
  {
   "cell_type": "markdown",
   "metadata": {},
   "source": [
    "## What is a Tensor?\n",
    "\n",
    "### 创建一个tensor\n",
    "\n",
    "- 常量和向量通常用小写字母来表示\n",
    "- 矩阵和张量通常用大写字母来表示"
   ]
  },
  {
   "cell_type": "code",
   "execution_count": 151,
   "metadata": {},
   "outputs": [],
   "source": [
    "import torch"
   ]
  },
  {
   "cell_type": "code",
   "execution_count": 152,
   "metadata": {},
   "outputs": [
    {
     "name": "stdout",
     "output_type": "stream",
     "text": [
      "2.4.1\n"
     ]
    }
   ],
   "source": [
    "print(torch.__version__)"
   ]
  },
  {
   "cell_type": "code",
   "execution_count": 153,
   "metadata": {},
   "outputs": [],
   "source": [
    "# 创建一个常量，值为7，0维张量\n",
    "scalar = torch.tensor(7)"
   ]
  },
  {
   "cell_type": "code",
   "execution_count": 154,
   "metadata": {},
   "outputs": [
    {
     "data": {
      "text/plain": [
       "tensor(7)"
      ]
     },
     "execution_count": 154,
     "metadata": {},
     "output_type": "execute_result"
    }
   ],
   "source": [
    "scalar"
   ]
  },
  {
   "cell_type": "code",
   "execution_count": 155,
   "metadata": {},
   "outputs": [
    {
     "data": {
      "text/plain": [
       "0"
      ]
     },
     "execution_count": 155,
     "metadata": {},
     "output_type": "execute_result"
    }
   ],
   "source": [
    "scalar.ndim"
   ]
  },
  {
   "cell_type": "code",
   "execution_count": 156,
   "metadata": {},
   "outputs": [],
   "source": [
    "TENSOR = torch.tensor([[[[1, 2, 3],\n",
    "                        [4, 5, 6],\n",
    "                        [7, 8, 9]\n",
    "                        ]]])"
   ]
  },
  {
   "cell_type": "code",
   "execution_count": 157,
   "metadata": {},
   "outputs": [
    {
     "data": {
      "text/plain": [
       "tensor([[[[1, 2, 3],\n",
       "          [4, 5, 6],\n",
       "          [7, 8, 9]]]])"
      ]
     },
     "execution_count": 157,
     "metadata": {},
     "output_type": "execute_result"
    }
   ],
   "source": [
    "TENSOR"
   ]
  },
  {
   "cell_type": "code",
   "execution_count": 158,
   "metadata": {},
   "outputs": [
    {
     "data": {
      "text/plain": [
       "4"
      ]
     },
     "execution_count": 158,
     "metadata": {},
     "output_type": "execute_result"
    }
   ],
   "source": [
    "TENSOR.ndim"
   ]
  },
  {
   "cell_type": "code",
   "execution_count": 159,
   "metadata": {},
   "outputs": [
    {
     "data": {
      "text/plain": [
       "torch.Size([1, 1, 3, 3])"
      ]
     },
     "execution_count": 159,
     "metadata": {},
     "output_type": "execute_result"
    }
   ],
   "source": [
    "TENSOR.shape"
   ]
  },
  {
   "cell_type": "code",
   "execution_count": 160,
   "metadata": {},
   "outputs": [
    {
     "data": {
      "text/plain": [
       "tensor([[[1, 2, 3],\n",
       "         [4, 5, 6],\n",
       "         [7, 8, 9]]])"
      ]
     },
     "execution_count": 160,
     "metadata": {},
     "output_type": "execute_result"
    }
   ],
   "source": [
    "TENSOR[0]"
   ]
  },
  {
   "cell_type": "code",
   "execution_count": 161,
   "metadata": {},
   "outputs": [
    {
     "data": {
      "text/plain": [
       "tensor([[1, 2, 3],\n",
       "        [4, 5, 6],\n",
       "        [7, 8, 9]])"
      ]
     },
     "execution_count": 161,
     "metadata": {},
     "output_type": "execute_result"
    }
   ],
   "source": [
    "TENSOR[0][0]"
   ]
  },
  {
   "cell_type": "code",
   "execution_count": 162,
   "metadata": {},
   "outputs": [
    {
     "data": {
      "text/plain": [
       "tensor([1, 2, 3])"
      ]
     },
     "execution_count": 162,
     "metadata": {},
     "output_type": "execute_result"
    }
   ],
   "source": [
    "TENSOR[0][0][0]"
   ]
  },
  {
   "cell_type": "code",
   "execution_count": 163,
   "metadata": {},
   "outputs": [
    {
     "data": {
      "text/plain": [
       "tensor(1)"
      ]
     },
     "execution_count": 163,
     "metadata": {},
     "output_type": "execute_result"
    }
   ],
   "source": [
    "TENSOR[0][0][0][0]"
   ]
  },
  {
   "cell_type": "markdown",
   "metadata": {},
   "source": [
    "### 创建一个random tensor\n",
    "\n",
    "- 为什么要使用random tensor呢？\n",
    "- 因为许多神经网络的训练都是从random tensor开始的，随机的数能更好的表示数据\n",
    "\n",
    "`start with random numbers -> look at data -> update random numebrs -> look at data -> update random numbers -> ...`\n",
    "\n",
    "Torch.rand - https://docs.pytorch.org/docs/main/generated/torch.rand.html"
   ]
  },
  {
   "cell_type": "code",
   "execution_count": 164,
   "metadata": {},
   "outputs": [],
   "source": [
    "# create a random tensor of size [3, 4]\n",
    "\n",
    "random_tensor = torch.rand(3, 4)"
   ]
  },
  {
   "cell_type": "code",
   "execution_count": 165,
   "metadata": {},
   "outputs": [
    {
     "data": {
      "text/plain": [
       "tensor([[0.0581, 0.0493, 0.3359, 0.9141],\n",
       "        [0.7459, 0.0298, 0.9468, 0.6498],\n",
       "        [0.8517, 0.0823, 0.8929, 0.5253]])"
      ]
     },
     "execution_count": 165,
     "metadata": {},
     "output_type": "execute_result"
    }
   ],
   "source": [
    "random_tensor"
   ]
  },
  {
   "cell_type": "code",
   "execution_count": 166,
   "metadata": {},
   "outputs": [
    {
     "data": {
      "text/plain": [
       "2"
      ]
     },
     "execution_count": 166,
     "metadata": {},
     "output_type": "execute_result"
    }
   ],
   "source": [
    "random_tensor.ndim"
   ]
  },
  {
   "cell_type": "code",
   "execution_count": 167,
   "metadata": {},
   "outputs": [
    {
     "data": {
      "text/plain": [
       "tensor([[[1.3761e-01, 7.4813e-01, 3.3788e-02, 9.6627e-01, 9.7242e-01,\n",
       "          6.8463e-01, 4.4086e-01, 9.2388e-01, 4.7733e-01, 5.4618e-01],\n",
       "         [3.7378e-02, 4.2903e-01, 1.2524e-01, 2.2315e-01, 5.4925e-01,\n",
       "          7.2545e-01, 1.9072e-01, 1.1322e-02, 6.6007e-01, 8.5753e-01],\n",
       "         [1.5000e-01, 2.2707e-01, 9.0371e-01, 7.2611e-02, 6.6361e-01,\n",
       "          7.5018e-01, 3.3396e-02, 5.2012e-01, 6.4296e-01, 9.1645e-01],\n",
       "         [6.4057e-01, 2.2057e-02, 3.8725e-01, 3.2638e-01, 5.8521e-01,\n",
       "          6.8924e-01, 4.8513e-01, 9.9436e-01, 8.2619e-01, 7.9822e-01],\n",
       "         [3.8078e-02, 9.6516e-01, 9.2962e-01, 2.2861e-01, 6.1710e-01,\n",
       "          7.0955e-01, 8.0507e-01, 3.4282e-01, 4.9378e-01, 4.4742e-01],\n",
       "         [3.5184e-01, 4.6387e-01, 6.1127e-01, 4.7312e-01, 6.4511e-01,\n",
       "          4.5175e-02, 7.0935e-01, 3.6769e-01, 1.3374e-02, 5.8210e-01],\n",
       "         [4.8741e-01, 3.6129e-02, 8.0604e-01, 3.7783e-01, 4.8415e-02,\n",
       "          5.8411e-01, 4.2908e-01, 8.5638e-01, 6.8156e-01, 7.5466e-01],\n",
       "         [4.8578e-01, 1.6503e-01, 5.2605e-01, 2.4512e-01, 5.2897e-01,\n",
       "          1.3944e-01, 4.1093e-01, 9.1407e-01, 5.4752e-01, 1.3916e-01],\n",
       "         [1.4991e-01, 5.6793e-01, 4.7037e-01, 8.8535e-01, 9.6189e-01,\n",
       "          5.4685e-01, 4.9775e-02, 1.5008e-01, 1.9326e-02, 5.6467e-01],\n",
       "         [4.6401e-01, 5.2232e-01, 1.7284e-01, 8.8815e-01, 6.5500e-01,\n",
       "          3.0787e-01, 7.5969e-01, 8.8794e-01, 3.4321e-02, 5.2655e-01]],\n",
       "\n",
       "        [[7.0711e-01, 5.7988e-01, 7.5226e-01, 6.8318e-01, 8.9822e-01,\n",
       "          1.7349e-01, 1.4459e-01, 1.3583e-01, 4.3940e-01, 9.5077e-02],\n",
       "         [3.6265e-01, 2.2731e-01, 8.1909e-01, 1.6158e-01, 5.9090e-01,\n",
       "          4.8487e-01, 9.7346e-01, 3.5358e-01, 1.3678e-01, 7.0394e-02],\n",
       "         [8.7524e-01, 3.8437e-01, 6.7178e-01, 8.3556e-01, 6.9872e-01,\n",
       "          9.0602e-01, 3.3299e-01, 4.8869e-01, 9.2983e-01, 6.4852e-01],\n",
       "         [4.8785e-01, 3.5986e-01, 6.6006e-01, 5.9923e-01, 6.4499e-01,\n",
       "          7.2349e-01, 7.8520e-01, 8.0538e-01, 1.7839e-01, 6.5883e-01],\n",
       "         [4.5350e-01, 8.0881e-02, 3.8707e-01, 5.8845e-01, 3.3712e-01,\n",
       "          5.4449e-01, 2.4613e-01, 9.9627e-01, 9.8159e-01, 1.0836e-01],\n",
       "         [6.6226e-01, 5.0086e-01, 1.5875e-01, 2.0836e-01, 6.1742e-01,\n",
       "          2.4319e-02, 8.8427e-01, 3.0632e-01, 7.5537e-01, 9.9323e-02],\n",
       "         [4.9558e-01, 1.2281e-01, 4.6196e-01, 5.5299e-01, 2.2685e-01,\n",
       "          7.3792e-01, 6.5973e-01, 1.2186e-03, 6.1586e-01, 6.0978e-01],\n",
       "         [9.3908e-01, 2.0673e-01, 3.1046e-01, 4.4136e-01, 6.4995e-01,\n",
       "          4.1094e-01, 3.7711e-01, 7.3001e-02, 3.8117e-01, 9.1397e-01],\n",
       "         [3.4085e-01, 5.0839e-02, 8.6308e-01, 8.1893e-02, 2.7161e-01,\n",
       "          6.1484e-01, 4.2558e-01, 5.8714e-01, 7.7007e-01, 9.3058e-01],\n",
       "         [1.8886e-01, 5.0060e-01, 6.7983e-01, 5.9343e-01, 7.4243e-01,\n",
       "          5.2777e-01, 6.4979e-01, 9.5926e-01, 6.2351e-01, 2.5782e-02]],\n",
       "\n",
       "        [[5.1361e-01, 1.0725e-01, 6.6681e-01, 5.5767e-01, 9.9179e-01,\n",
       "          7.4193e-01, 6.0838e-01, 1.3180e-01, 9.8465e-01, 8.9243e-01],\n",
       "         [4.9312e-01, 8.4199e-01, 6.9908e-01, 8.5375e-01, 1.9303e-01,\n",
       "          7.1723e-01, 4.2436e-01, 6.2729e-01, 3.3302e-01, 1.3550e-01],\n",
       "         [3.6240e-01, 1.4509e-01, 1.2548e-01, 9.6346e-01, 9.7204e-01,\n",
       "          5.9621e-01, 6.8322e-01, 1.8732e-01, 6.0868e-01, 5.4741e-01],\n",
       "         [7.4797e-01, 4.8496e-01, 5.3639e-01, 6.7269e-02, 3.2745e-02,\n",
       "          8.6538e-02, 7.1883e-01, 3.2789e-01, 6.3932e-01, 9.3474e-01],\n",
       "         [6.1869e-02, 2.3388e-01, 6.4943e-01, 3.0254e-01, 2.8670e-02,\n",
       "          6.4379e-01, 9.5089e-01, 1.1204e-01, 8.7135e-01, 4.3738e-01],\n",
       "         [8.6449e-01, 6.6074e-01, 8.2238e-01, 7.2962e-01, 4.6352e-01,\n",
       "          9.2970e-01, 8.8803e-01, 6.6777e-01, 8.8023e-01, 8.3085e-01],\n",
       "         [9.1231e-01, 8.9214e-01, 2.7381e-01, 7.9145e-01, 7.8503e-01,\n",
       "          8.9469e-01, 8.3569e-01, 7.3960e-02, 4.4182e-01, 8.7339e-01],\n",
       "         [1.6556e-01, 3.0558e-01, 5.6437e-01, 5.5609e-01, 6.4630e-01,\n",
       "          5.4449e-02, 2.0184e-02, 5.1455e-01, 2.0848e-01, 3.6090e-01],\n",
       "         [3.1543e-01, 8.2107e-01, 9.0863e-01, 6.0210e-01, 8.5719e-01,\n",
       "          9.7956e-01, 7.9797e-01, 8.2168e-01, 9.9672e-01, 8.6263e-02],\n",
       "         [8.9237e-01, 2.1602e-01, 3.5187e-01, 4.2061e-01, 8.9694e-01,\n",
       "          3.7176e-01, 2.6182e-01, 1.2223e-01, 2.3055e-01, 6.7608e-01]],\n",
       "\n",
       "        [[1.9649e-01, 5.9865e-02, 4.9481e-01, 9.3738e-03, 6.7298e-01,\n",
       "          5.9400e-01, 5.5474e-01, 9.3188e-01, 1.4826e-01, 3.5006e-01],\n",
       "         [2.7079e-01, 4.0108e-02, 4.5794e-01, 7.3127e-01, 1.0340e-01,\n",
       "          4.7224e-01, 8.1537e-01, 9.8164e-03, 6.0017e-01, 5.2151e-01],\n",
       "         [7.8877e-03, 2.5423e-01, 2.5657e-01, 6.0037e-01, 5.6892e-01,\n",
       "          1.6259e-01, 8.1625e-01, 8.7166e-01, 1.5629e-01, 8.1877e-01],\n",
       "         [3.2937e-01, 3.7933e-01, 7.2322e-01, 1.0382e-01, 8.6803e-01,\n",
       "          1.5443e-01, 8.5357e-01, 3.1230e-01, 8.8107e-01, 5.9466e-01],\n",
       "         [9.3440e-01, 3.5807e-01, 1.4033e-01, 1.9453e-01, 9.2772e-03,\n",
       "          8.3407e-01, 2.3746e-01, 5.0248e-01, 1.6578e-01, 2.9741e-01],\n",
       "         [4.1694e-01, 6.6382e-01, 3.4312e-01, 1.5111e-01, 4.5692e-01,\n",
       "          6.6970e-01, 9.3076e-01, 5.2081e-01, 7.2260e-01, 1.9833e-01],\n",
       "         [9.3942e-01, 9.9121e-01, 3.2092e-01, 7.7951e-01, 6.2440e-01,\n",
       "          2.0393e-01, 1.4888e-01, 6.1754e-01, 7.1236e-01, 6.1761e-01],\n",
       "         [2.0982e-01, 4.7887e-01, 1.0419e-02, 9.3810e-01, 1.4367e-01,\n",
       "          1.9921e-01, 7.2487e-02, 9.5314e-01, 6.4144e-01, 6.9394e-01],\n",
       "         [5.1337e-01, 2.3278e-01, 2.5179e-01, 4.6356e-01, 4.5249e-01,\n",
       "          3.3643e-02, 9.2208e-01, 6.5850e-02, 7.2188e-01, 3.0281e-01],\n",
       "         [2.0931e-01, 5.1063e-01, 5.5688e-01, 4.3881e-01, 2.1700e-02,\n",
       "          9.7188e-01, 8.2628e-01, 5.5170e-01, 5.6963e-01, 7.5237e-01]],\n",
       "\n",
       "        [[1.8605e-01, 3.7582e-01, 1.7868e-01, 8.5365e-01, 3.0287e-02,\n",
       "          1.1572e-01, 4.1800e-01, 9.2766e-01, 2.2095e-01, 1.3774e-01],\n",
       "         [5.9046e-01, 7.3881e-01, 9.0410e-01, 4.6698e-01, 4.9051e-01,\n",
       "          1.6891e-01, 2.2596e-01, 7.1390e-01, 7.7485e-01, 2.5978e-01],\n",
       "         [3.6732e-01, 8.6268e-02, 6.2193e-01, 3.9284e-01, 8.8707e-01,\n",
       "          6.1576e-01, 4.4063e-01, 2.8805e-01, 3.9731e-01, 2.0291e-01],\n",
       "         [8.6015e-01, 9.9429e-01, 8.7319e-01, 5.2198e-01, 6.9275e-01,\n",
       "          3.6088e-01, 6.7189e-02, 4.2370e-01, 5.6504e-01, 4.5110e-01],\n",
       "         [9.1601e-01, 8.5810e-01, 4.1972e-01, 8.0719e-01, 7.8258e-01,\n",
       "          2.1308e-01, 5.1275e-01, 6.8510e-01, 7.7683e-01, 2.2601e-01],\n",
       "         [4.1963e-01, 3.8753e-01, 7.3322e-01, 5.7941e-02, 1.7937e-01,\n",
       "          4.8279e-01, 2.5881e-01, 8.2738e-01, 3.4403e-01, 8.8088e-02],\n",
       "         [9.4954e-01, 6.0479e-01, 5.1639e-01, 8.8349e-01, 2.2018e-01,\n",
       "          6.3143e-01, 9.9585e-01, 2.9446e-01, 9.5818e-01, 5.6760e-01],\n",
       "         [2.4802e-01, 2.8661e-02, 1.6567e-01, 7.5365e-01, 6.1860e-01,\n",
       "          2.1651e-01, 1.8480e-01, 5.2574e-01, 8.3775e-01, 7.1596e-01],\n",
       "         [4.4020e-01, 9.0855e-01, 9.4181e-01, 5.7940e-01, 9.0642e-01,\n",
       "          3.1971e-01, 2.9102e-01, 9.4621e-01, 6.2725e-01, 5.1344e-01],\n",
       "         [3.1932e-01, 2.8383e-01, 3.2931e-01, 6.5969e-01, 6.5751e-01,\n",
       "          3.7948e-01, 1.7314e-01, 9.6268e-01, 2.7900e-01, 7.2211e-01]],\n",
       "\n",
       "        [[2.8361e-01, 7.7747e-01, 7.5356e-01, 5.4045e-01, 9.9641e-01,\n",
       "          9.0839e-01, 2.3724e-01, 5.3609e-01, 8.3561e-01, 7.7797e-01],\n",
       "         [6.0692e-01, 9.3640e-01, 1.2399e-01, 9.3346e-01, 6.4042e-01,\n",
       "          1.6280e-01, 6.6722e-01, 4.0152e-01, 4.9739e-01, 7.9207e-01],\n",
       "         [7.0307e-01, 5.9290e-01, 7.2798e-01, 5.2666e-01, 8.4187e-01,\n",
       "          8.4641e-01, 3.6024e-01, 3.9559e-01, 3.7611e-01, 1.7324e-01],\n",
       "         [3.2253e-01, 5.0718e-02, 7.7457e-01, 4.0156e-01, 3.0988e-01,\n",
       "          6.0574e-01, 2.0189e-02, 4.7711e-01, 8.9886e-01, 7.6521e-01],\n",
       "         [2.1168e-01, 2.4631e-01, 7.2697e-01, 9.0093e-01, 4.2268e-01,\n",
       "          6.0833e-01, 7.2619e-01, 5.4288e-01, 9.9086e-01, 5.2468e-01],\n",
       "         [4.6663e-01, 9.2318e-01, 2.0197e-02, 6.7429e-01, 9.9821e-01,\n",
       "          8.9867e-01, 6.1935e-01, 7.4371e-01, 7.3449e-01, 2.9969e-01],\n",
       "         [2.0232e-01, 6.5081e-01, 9.2919e-02, 6.4921e-01, 2.2752e-01,\n",
       "          2.9972e-01, 5.4992e-01, 9.2844e-01, 8.8651e-01, 4.2551e-01],\n",
       "         [3.3495e-01, 6.9313e-01, 6.5797e-01, 7.4130e-01, 8.1129e-01,\n",
       "          1.6743e-01, 4.2035e-01, 4.6237e-01, 8.2845e-01, 5.7944e-01],\n",
       "         [4.6628e-01, 5.7856e-01, 3.4739e-01, 4.3910e-01, 1.5333e-01,\n",
       "          8.7155e-01, 8.3933e-01, 9.7134e-01, 8.1808e-01, 5.3166e-01],\n",
       "         [9.0755e-01, 5.9542e-01, 8.1128e-01, 4.1525e-01, 6.2906e-02,\n",
       "          4.4115e-01, 6.0051e-01, 4.8887e-02, 2.4691e-01, 5.6780e-01]],\n",
       "\n",
       "        [[3.2073e-01, 2.4091e-01, 8.8613e-02, 4.6093e-01, 2.1886e-01,\n",
       "          9.5184e-01, 3.4370e-01, 7.9304e-01, 8.4206e-01, 1.7953e-02],\n",
       "         [9.4121e-01, 1.6320e-01, 2.2658e-01, 7.8527e-01, 8.8612e-01,\n",
       "          4.9849e-01, 1.5841e-01, 8.0290e-01, 7.7471e-01, 9.7267e-01],\n",
       "         [4.9163e-02, 5.2123e-01, 3.9548e-01, 8.2421e-01, 5.2824e-01,\n",
       "          6.5118e-01, 2.1228e-02, 9.9016e-01, 8.1782e-02, 7.5867e-02],\n",
       "         [6.7720e-01, 4.2260e-01, 1.0739e-01, 6.7656e-01, 3.9917e-01,\n",
       "          2.9000e-01, 5.8836e-01, 9.7445e-01, 6.4393e-02, 8.2250e-01],\n",
       "         [2.4376e-01, 7.9290e-01, 8.6969e-01, 7.2330e-01, 7.8204e-01,\n",
       "          1.2664e-01, 8.9516e-01, 6.8839e-01, 2.8345e-01, 2.0646e-01],\n",
       "         [4.3095e-01, 1.2002e-01, 3.6168e-01, 7.3885e-01, 8.3928e-01,\n",
       "          9.8710e-01, 5.2898e-01, 9.6656e-01, 5.3754e-01, 1.1681e-01],\n",
       "         [9.1611e-01, 8.0632e-01, 2.4149e-01, 6.7165e-01, 7.2524e-01,\n",
       "          2.1339e-01, 8.2733e-01, 7.0047e-01, 8.0100e-02, 1.1504e-01],\n",
       "         [8.2183e-01, 4.2005e-01, 4.3894e-01, 9.2175e-01, 3.9814e-01,\n",
       "          4.8071e-01, 3.5965e-01, 5.1468e-01, 4.7626e-01, 3.5208e-01],\n",
       "         [7.9670e-01, 5.2234e-01, 8.2262e-01, 7.0286e-01, 1.1846e-01,\n",
       "          8.8936e-01, 3.8208e-01, 1.5780e-01, 8.8828e-01, 3.4557e-01],\n",
       "         [6.9747e-01, 1.1568e-01, 4.7323e-01, 5.7892e-01, 5.7424e-01,\n",
       "          4.7584e-01, 1.4190e-01, 2.0143e-01, 9.6383e-01, 3.8051e-01]],\n",
       "\n",
       "        [[5.3811e-01, 4.1438e-01, 9.3724e-01, 6.2072e-02, 1.8255e-01,\n",
       "          7.9976e-01, 6.5494e-01, 9.5285e-01, 7.0769e-03, 5.6625e-01],\n",
       "         [3.3112e-01, 8.3693e-01, 9.0675e-01, 5.7094e-01, 4.6700e-04,\n",
       "          6.0692e-03, 9.1355e-01, 6.7847e-01, 6.0055e-01, 5.1893e-01],\n",
       "         [5.4979e-01, 5.9811e-01, 7.7669e-01, 5.3431e-01, 6.0088e-01,\n",
       "          7.7068e-01, 8.0410e-01, 9.2266e-01, 4.1714e-02, 6.8931e-02],\n",
       "         [9.9926e-01, 8.7105e-01, 2.5545e-01, 9.5418e-01, 1.4718e-01,\n",
       "          1.2146e-01, 5.4263e-01, 9.9807e-01, 1.3566e-02, 6.1736e-01],\n",
       "         [2.5692e-01, 3.8037e-01, 8.4809e-01, 9.9674e-01, 7.7717e-02,\n",
       "          8.2933e-01, 1.9546e-01, 7.5885e-01, 9.3981e-01, 5.9927e-01],\n",
       "         [6.8694e-01, 2.4187e-01, 3.7523e-01, 4.5720e-01, 2.2758e-01,\n",
       "          5.8429e-02, 1.8953e-01, 1.5432e-01, 8.3093e-02, 9.6963e-01],\n",
       "         [8.2159e-01, 9.7679e-01, 3.8347e-01, 9.1929e-01, 5.5637e-01,\n",
       "          5.7601e-01, 8.6005e-01, 3.7309e-01, 9.7135e-01, 1.8016e-01],\n",
       "         [2.6477e-01, 1.4255e-01, 8.3017e-01, 3.4600e-01, 4.3732e-01,\n",
       "          6.3348e-01, 6.7445e-01, 2.0380e-01, 2.3513e-01, 6.8566e-03],\n",
       "         [3.3502e-01, 1.3875e-01, 7.7356e-01, 5.3316e-02, 5.4366e-01,\n",
       "          9.0857e-01, 7.1364e-01, 6.1859e-02, 8.5409e-03, 7.9003e-01],\n",
       "         [5.3589e-01, 8.1718e-02, 6.9565e-01, 8.3725e-01, 7.9592e-01,\n",
       "          2.7072e-01, 8.3997e-01, 6.3312e-01, 7.3072e-01, 3.5176e-01]],\n",
       "\n",
       "        [[5.3547e-01, 6.6449e-01, 4.2704e-01, 4.2081e-02, 3.0152e-01,\n",
       "          6.1316e-01, 9.8379e-01, 5.1296e-01, 4.3731e-01, 3.0112e-02],\n",
       "         [8.2903e-01, 8.0179e-01, 5.2538e-01, 3.8154e-01, 7.4627e-01,\n",
       "          2.3926e-01, 5.3414e-01, 7.2496e-01, 8.0322e-01, 8.2870e-01],\n",
       "         [8.7775e-01, 1.6503e-01, 8.7878e-01, 7.6646e-04, 7.0189e-01,\n",
       "          5.0223e-01, 4.1411e-01, 9.4806e-01, 4.7570e-01, 5.5229e-01],\n",
       "         [8.3997e-01, 3.1090e-01, 9.3814e-01, 1.4419e-02, 5.4671e-01,\n",
       "          7.6811e-01, 5.4799e-01, 8.9887e-01, 1.0711e-01, 4.1888e-01],\n",
       "         [6.7865e-01, 3.6639e-01, 9.9688e-01, 4.3295e-01, 6.9347e-01,\n",
       "          4.9108e-01, 2.0627e-01, 1.2584e-01, 5.8500e-01, 2.0403e-01],\n",
       "         [5.5047e-01, 9.4855e-01, 4.9604e-01, 6.0626e-01, 8.4173e-01,\n",
       "          6.6773e-01, 8.8264e-01, 8.6998e-01, 5.4426e-01, 8.0433e-01],\n",
       "         [8.4907e-01, 1.6223e-01, 3.3405e-01, 2.0901e-01, 1.9570e-01,\n",
       "          9.4940e-01, 7.7530e-01, 5.5040e-01, 7.7411e-01, 4.3920e-01],\n",
       "         [2.3212e-01, 5.0731e-01, 7.7152e-01, 4.5894e-02, 1.9278e-01,\n",
       "          7.5519e-01, 8.0083e-01, 6.9085e-01, 3.3040e-01, 8.3657e-01],\n",
       "         [1.8509e-01, 6.1059e-01, 3.9642e-01, 4.1686e-01, 8.7137e-01,\n",
       "          5.7632e-01, 4.2550e-01, 4.3197e-01, 6.7924e-01, 6.5682e-01],\n",
       "         [8.0933e-01, 3.8260e-01, 3.5170e-01, 6.3846e-01, 1.4206e-01,\n",
       "          6.3761e-02, 1.1509e-01, 6.9446e-01, 5.6292e-01, 6.2744e-01]],\n",
       "\n",
       "        [[8.1981e-03, 8.6037e-01, 1.0851e-01, 9.4921e-01, 6.1996e-01,\n",
       "          2.8566e-01, 3.4717e-01, 3.2389e-01, 6.3947e-01, 7.6628e-01],\n",
       "         [6.9771e-01, 2.4613e-01, 3.9264e-01, 6.0520e-01, 8.2188e-01,\n",
       "          3.9118e-01, 7.6971e-01, 2.6861e-01, 1.5260e-01, 5.9091e-02],\n",
       "         [1.9797e-02, 5.4868e-01, 4.0296e-01, 5.2013e-01, 5.4278e-01,\n",
       "          5.2181e-02, 1.0886e-01, 6.7298e-01, 9.9550e-01, 5.4965e-01],\n",
       "         [2.5198e-01, 6.0044e-01, 2.6365e-01, 4.2739e-02, 2.5168e-01,\n",
       "          8.8694e-01, 4.0182e-01, 6.3993e-02, 6.0872e-01, 9.0928e-01],\n",
       "         [5.1697e-01, 7.3584e-01, 1.2213e-02, 8.9865e-01, 7.9439e-02,\n",
       "          6.9392e-01, 4.0642e-01, 6.5689e-01, 4.8591e-01, 3.3581e-01],\n",
       "         [3.0152e-01, 7.7464e-02, 3.6411e-02, 4.7627e-01, 9.0930e-01,\n",
       "          2.3742e-01, 5.5666e-01, 2.8989e-01, 7.5457e-01, 9.1315e-01],\n",
       "         [5.1278e-01, 3.1097e-01, 2.7104e-01, 6.9606e-01, 1.8477e-01,\n",
       "          2.7111e-02, 7.5685e-01, 8.5197e-01, 6.5000e-01, 3.6225e-01],\n",
       "         [4.8758e-01, 4.9509e-01, 5.6809e-01, 3.8946e-01, 5.1892e-04,\n",
       "          9.0756e-01, 3.1386e-01, 8.7131e-01, 1.3327e-01, 2.6389e-01],\n",
       "         [5.8006e-02, 8.6723e-01, 9.6494e-01, 4.4154e-01, 7.2532e-01,\n",
       "          7.9548e-01, 3.1117e-01, 5.6380e-01, 2.9877e-01, 1.4718e-01],\n",
       "         [5.1160e-01, 2.3640e-01, 9.3776e-01, 4.5425e-02, 8.0327e-01,\n",
       "          9.4024e-01, 2.9330e-01, 8.2626e-01, 5.2109e-01, 5.5772e-01]]])"
      ]
     },
     "execution_count": 167,
     "metadata": {},
     "output_type": "execute_result"
    }
   ],
   "source": [
    "random_tensor_2 = torch.rand(10, 10, 10)\n",
    "random_tensor_2"
   ]
  },
  {
   "cell_type": "code",
   "execution_count": 168,
   "metadata": {},
   "outputs": [
    {
     "data": {
      "text/plain": [
       "3"
      ]
     },
     "execution_count": 168,
     "metadata": {},
     "output_type": "execute_result"
    }
   ],
   "source": [
    "random_tensor_2.ndim"
   ]
  },
  {
   "cell_type": "code",
   "execution_count": 169,
   "metadata": {},
   "outputs": [
    {
     "data": {
      "text/plain": [
       "(torch.Size([224, 224, 3]), torch.Size([224, 224, 3]), 3)"
      ]
     },
     "execution_count": 169,
     "metadata": {},
     "output_type": "execute_result"
    }
   ],
   "source": [
    "random_image_size_tensor = torch.rand(size=(224, 224, 3))\n",
    "# height, width, color channels(rgb)\n",
    "random_image_size_tensor.shape, random_image_size_tensor.size(), random_image_size_tensor.ndim"
   ]
  },
  {
   "cell_type": "markdown",
   "metadata": {},
   "source": [
    "### zeros and ones tensor\n"
   ]
  },
  {
   "cell_type": "code",
   "execution_count": 170,
   "metadata": {},
   "outputs": [
    {
     "data": {
      "text/plain": [
       "tensor([[0., 0., 0., 0.],\n",
       "        [0., 0., 0., 0.],\n",
       "        [0., 0., 0., 0.]])"
      ]
     },
     "execution_count": 170,
     "metadata": {},
     "output_type": "execute_result"
    }
   ],
   "source": [
    "# creating a tensor of all zeros\n",
    "zeros = torch.zeros(size = (3, 4))\n",
    "zeros"
   ]
  },
  {
   "cell_type": "code",
   "execution_count": 171,
   "metadata": {},
   "outputs": [
    {
     "data": {
      "text/plain": [
       "tensor([[0., 0., 0., 0.],\n",
       "        [0., 0., 0., 0.],\n",
       "        [0., 0., 0., 0.]])"
      ]
     },
     "execution_count": 171,
     "metadata": {},
     "output_type": "execute_result"
    }
   ],
   "source": [
    "zeros * random_tensor"
   ]
  },
  {
   "cell_type": "code",
   "execution_count": 172,
   "metadata": {},
   "outputs": [
    {
     "data": {
      "text/plain": [
       "tensor([[1., 1., 1., 1.],\n",
       "        [1., 1., 1., 1.],\n",
       "        [1., 1., 1., 1.]])"
      ]
     },
     "execution_count": 172,
     "metadata": {},
     "output_type": "execute_result"
    }
   ],
   "source": [
    "ones = torch.ones(3, 4)\n",
    "ones"
   ]
  },
  {
   "cell_type": "code",
   "execution_count": 173,
   "metadata": {},
   "outputs": [
    {
     "data": {
      "text/plain": [
       "tensor([[0.0581, 0.0493, 0.3359, 0.9141],\n",
       "        [0.7459, 0.0298, 0.9468, 0.6498],\n",
       "        [0.8517, 0.0823, 0.8929, 0.5253]])"
      ]
     },
     "execution_count": 173,
     "metadata": {},
     "output_type": "execute_result"
    }
   ],
   "source": [
    "ones * random_tensor"
   ]
  },
  {
   "cell_type": "code",
   "execution_count": 174,
   "metadata": {},
   "outputs": [
    {
     "data": {
      "text/plain": [
       "tensor([1.6558, 0.1614, 2.1755, 2.0892])"
      ]
     },
     "execution_count": 174,
     "metadata": {},
     "output_type": "execute_result"
    }
   ],
   "source": [
    "random_tensor.sum(axis = 0)"
   ]
  },
  {
   "cell_type": "code",
   "execution_count": 175,
   "metadata": {},
   "outputs": [
    {
     "data": {
      "text/plain": [
       "torch.float32"
      ]
     },
     "execution_count": 175,
     "metadata": {},
     "output_type": "execute_result"
    }
   ],
   "source": [
    "ones.dtype"
   ]
  },
  {
   "cell_type": "markdown",
   "metadata": {},
   "source": [
    "### Creating a range of tensor and tensors-like"
   ]
  },
  {
   "cell_type": "code",
   "execution_count": 176,
   "metadata": {},
   "outputs": [
    {
     "data": {
      "text/plain": [
       "tensor([ 1,  2,  3,  4,  5,  6,  7,  8,  9, 10])"
      ]
     },
     "execution_count": 176,
     "metadata": {},
     "output_type": "execute_result"
    }
   ],
   "source": [
    "one_to_ten = torch.arange(1, 11)\n",
    "one_to_ten"
   ]
  },
  {
   "cell_type": "code",
   "execution_count": 177,
   "metadata": {},
   "outputs": [
    {
     "data": {
      "text/plain": [
       "tensor([  0,  77, 154, 231, 308, 385, 462, 539, 616, 693, 770, 847, 924])"
      ]
     },
     "execution_count": 177,
     "metadata": {},
     "output_type": "execute_result"
    }
   ],
   "source": [
    "zero_to_thousand_step_77 = torch.arange(start=0,\n",
    "                                        end =  1000,\n",
    "                                        step= 77                      \n",
    "                                        )\n",
    "zero_to_thousand_step_77"
   ]
  },
  {
   "cell_type": "code",
   "execution_count": 178,
   "metadata": {},
   "outputs": [
    {
     "data": {
      "text/plain": [
       "tensor([0, 0, 0, 0, 0, 0, 0, 0, 0, 0])"
      ]
     },
     "execution_count": 178,
     "metadata": {},
     "output_type": "execute_result"
    }
   ],
   "source": [
    "# Creating tensors like\n",
    "ten_zeros = torch.zeros_like(input=one_to_ten)\n",
    "ten_zeros"
   ]
  },
  {
   "cell_type": "markdown",
   "metadata": {},
   "source": [
    "## Tensor datatypes\n",
    "\n",
    "- **Note:** Tensor datatypes is one of the 3 big erros you'll run into PyTorch and deep learning\n",
    "1. Tensors not right datatype\n",
    "2. Tensors not right shape\n",
    "3. Tensors not on the right device\n",
    "   1. 如果两个TensorFlow不在一个设备上，一个在CPU上，一个在GPU上\n",
    "\n",
    "### Getting information from tensors(tensor attributes)\n",
    "\n",
    "1. to get datatype from a tensor —— use `tensor.dtype`\n",
    "2. to get shape from a tensor —— use `tensor.shape`\n",
    "3. to get device from a tensor —— use `tensor.device`"
   ]
  },
  {
   "cell_type": "code",
   "execution_count": 179,
   "metadata": {},
   "outputs": [
    {
     "data": {
      "text/plain": [
       "torch.float32"
      ]
     },
     "execution_count": 179,
     "metadata": {},
     "output_type": "execute_result"
    }
   ],
   "source": [
    "float_32_tensor = torch.tensor([1, 2, 3],\n",
    "                               device=\"cuda\", # What device is your tensor on\n",
    "                               dtype=torch.float32, # What datatype is the tensor\n",
    "                               requires_grad=True) # Whether or not to track gradients with this tensor operations\n",
    "float_32_tensor.dtype"
   ]
  },
  {
   "cell_type": "code",
   "execution_count": 180,
   "metadata": {},
   "outputs": [
    {
     "data": {
      "text/plain": [
       "device(type='cuda', index=0)"
      ]
     },
     "execution_count": 180,
     "metadata": {},
     "output_type": "execute_result"
    }
   ],
   "source": [
    "float_32_tensor.device"
   ]
  },
  {
   "cell_type": "code",
   "execution_count": 181,
   "metadata": {},
   "outputs": [
    {
     "data": {
      "text/plain": [
       "torch.float16"
      ]
     },
     "execution_count": 181,
     "metadata": {},
     "output_type": "execute_result"
    }
   ],
   "source": [
    "float_16_tensor = float_32_tensor.type(torch.half)\n",
    "float_16_tensor.dtype"
   ]
  },
  {
   "cell_type": "code",
   "execution_count": 182,
   "metadata": {},
   "outputs": [],
   "source": [
    "tensor_mul = float_16_tensor * float_32_tensor"
   ]
  },
  {
   "cell_type": "code",
   "execution_count": 183,
   "metadata": {},
   "outputs": [
    {
     "data": {
      "text/plain": [
       "torch.float32"
      ]
     },
     "execution_count": 183,
     "metadata": {},
     "output_type": "execute_result"
    }
   ],
   "source": [
    "tensor_mul.dtype"
   ]
  },
  {
   "cell_type": "code",
   "execution_count": 184,
   "metadata": {},
   "outputs": [
    {
     "data": {
      "text/plain": [
       "tensor([[0.1993, 0.8973, 0.0529, 0.6850],\n",
       "        [0.1446, 0.1627, 0.0240, 0.5047],\n",
       "        [0.8065, 0.6677, 0.3098, 0.3790]])"
      ]
     },
     "execution_count": 184,
     "metadata": {},
     "output_type": "execute_result"
    }
   ],
   "source": [
    "# Creating a tensor\n",
    "some_tensor = torch.rand(3, 4)\n",
    "some_tensor"
   ]
  },
  {
   "cell_type": "code",
   "execution_count": 185,
   "metadata": {},
   "outputs": [
    {
     "name": "stdout",
     "output_type": "stream",
     "text": [
      "tensor([[0.1993, 0.8973, 0.0529, 0.6850],\n",
      "        [0.1446, 0.1627, 0.0240, 0.5047],\n",
      "        [0.8065, 0.6677, 0.3098, 0.3790]])\n",
      "DataType of tensor: torch.float32\n",
      "Shape of tensor: torch.Size([3, 4])\n",
      "Device tensor is on: cpu\n"
     ]
    }
   ],
   "source": [
    "# Find out details about some tensor\n",
    "\n",
    "print(some_tensor)\n",
    "print(f\"DataType of tensor: {some_tensor.dtype}\")\n",
    "print(f\"Shape of tensor: {some_tensor.shape}\")\n",
    "print(f\"Device tensor is on: {some_tensor.device}\")"
   ]
  },
  {
   "cell_type": "markdown",
   "metadata": {},
   "source": [
    "### Manipulating Tensors (tensor operation)\n",
    "\n",
    "Tensor operation include:\n",
    "- 加法\n",
    "- 减法\n",
    "- 乘法\n",
    "- 除法\n",
    "- 矩阵相乘 \n"
   ]
  },
  {
   "cell_type": "code",
   "execution_count": 186,
   "metadata": {},
   "outputs": [
    {
     "data": {
      "text/plain": [
       "tensor([11, 12, 13])"
      ]
     },
     "execution_count": 186,
     "metadata": {},
     "output_type": "execute_result"
    }
   ],
   "source": [
    "# create a tensor\n",
    "\n",
    "tensor = torch.tensor([1, 2, 3])\n",
    "tensor + 10"
   ]
  },
  {
   "cell_type": "code",
   "execution_count": 187,
   "metadata": {},
   "outputs": [
    {
     "data": {
      "text/plain": [
       "tensor([-99, -98, -97])"
      ]
     },
     "execution_count": 187,
     "metadata": {},
     "output_type": "execute_result"
    }
   ],
   "source": [
    "tensor - 100"
   ]
  },
  {
   "cell_type": "code",
   "execution_count": 188,
   "metadata": {},
   "outputs": [
    {
     "data": {
      "text/plain": [
       "tensor([1, 2, 3])"
      ]
     },
     "execution_count": 188,
     "metadata": {},
     "output_type": "execute_result"
    }
   ],
   "source": [
    "tensor"
   ]
  },
  {
   "cell_type": "code",
   "execution_count": 189,
   "metadata": {},
   "outputs": [
    {
     "data": {
      "text/plain": [
       "tensor([1, 2, 3])"
      ]
     },
     "execution_count": 189,
     "metadata": {},
     "output_type": "execute_result"
    }
   ],
   "source": [
    "# multiplication\n",
    "\n",
    "tensor * 10\n",
    "tensor"
   ]
  },
  {
   "cell_type": "code",
   "execution_count": 190,
   "metadata": {},
   "outputs": [
    {
     "data": {
      "text/plain": [
       "tensor([-9, -8, -7])"
      ]
     },
     "execution_count": 190,
     "metadata": {},
     "output_type": "execute_result"
    }
   ],
   "source": [
    "tensor - 10"
   ]
  },
  {
   "cell_type": "code",
   "execution_count": 191,
   "metadata": {},
   "outputs": [
    {
     "name": "stdout",
     "output_type": "stream",
     "text": [
      "tensor([10, 20, 30])\n",
      "tensor([11, 12, 13])\n"
     ]
    }
   ],
   "source": [
    "print(torch.mul(tensor, 10))\n",
    "print(torch.add(tensor, 10))"
   ]
  },
  {
   "cell_type": "markdown",
   "metadata": {},
   "source": [
    "#### Matrix multiplication\n",
    "\n",
    "two main ways of performing multiplication:\n",
    "1. element-wise multiplication\n",
    "2. matrix multiplication\n",
    "\n",
    "There are two main rules that preforming matrix multiplicatoin needs to satisfy:\n",
    "1. The **inner dimensions** must match\n",
    "   1. `(3, 2) @ (3, 2)`报错\n",
    "   2. `(3, 2) @ (2, 3)` 和 `(2, 3) @ (3, 2)`都不会报错\n",
    "2. The resulting matrix has the shape of the **outer dimensions**\n",
    "   1. `(3, 2) @ (2, 3) -> (3, 3)`\n",
    "   2. `(2, 3) @ (3, 2) -> (2, 2)`  "
   ]
  },
  {
   "cell_type": "code",
   "execution_count": 192,
   "metadata": {},
   "outputs": [
    {
     "name": "stdout",
     "output_type": "stream",
     "text": [
      "tensor([1, 2, 3]) * tensor([1, 2, 3])\n",
      "Equels: tensor([1, 4, 9])\n"
     ]
    }
   ],
   "source": [
    "# Element wise multiplication\n",
    "\n",
    "print(tensor, \"*\", tensor)\n",
    "print(f\"Equels: {(tensor * tensor)}\")"
   ]
  },
  {
   "cell_type": "code",
   "execution_count": 193,
   "metadata": {},
   "outputs": [
    {
     "name": "stdout",
     "output_type": "stream",
     "text": [
      "CPU times: total: 0 ns\n",
      "Wall time: 0 ns\n"
     ]
    },
    {
     "data": {
      "text/plain": [
       "tensor(14)"
      ]
     },
     "execution_count": 193,
     "metadata": {},
     "output_type": "execute_result"
    }
   ],
   "source": [
    "%%time\n",
    "value = 0\n",
    "for i in range(len(tensor)):\n",
    "    value += tensor[i] * tensor[i]\n",
    "value"
   ]
  },
  {
   "cell_type": "code",
   "execution_count": 194,
   "metadata": {},
   "outputs": [
    {
     "name": "stdout",
     "output_type": "stream",
     "text": [
      "CPU times: total: 0 ns\n",
      "Wall time: 965 µs\n"
     ]
    },
    {
     "data": {
      "text/plain": [
       "tensor(14)"
      ]
     },
     "execution_count": 194,
     "metadata": {},
     "output_type": "execute_result"
    }
   ],
   "source": [
    "%%time\n",
    "torch.matmul(tensor, tensor)"
   ]
  },
  {
   "cell_type": "code",
   "execution_count": 196,
   "metadata": {},
   "outputs": [],
   "source": [
    "tensor_1 = torch.rand(3, 2)\n",
    "tensor_2 = torch.rand(2, 3)"
   ]
  },
  {
   "cell_type": "code",
   "execution_count": 197,
   "metadata": {},
   "outputs": [
    {
     "name": "stdout",
     "output_type": "stream",
     "text": [
      "CPU times: total: 0 ns\n",
      "Wall time: 0 ns\n"
     ]
    },
    {
     "data": {
      "text/plain": [
       "tensor([[1.0615, 0.3679, 1.0310],\n",
       "        [0.6788, 0.3905, 0.8700],\n",
       "        [0.4919, 0.2136, 0.5362]])"
      ]
     },
     "execution_count": 197,
     "metadata": {},
     "output_type": "execute_result"
    }
   ],
   "source": [
    "%%time\n",
    "torch.matmul(tensor_1, tensor_2)"
   ]
  },
  {
   "cell_type": "markdown",
   "metadata": {},
   "source": [
    "### One of the most common errors in dl: shape errors"
   ]
  },
  {
   "cell_type": "code",
   "execution_count": 199,
   "metadata": {},
   "outputs": [
    {
     "data": {
      "text/plain": [
       "(torch.Size([3, 2]), torch.Size([3, 2]))"
      ]
     },
     "execution_count": 199,
     "metadata": {},
     "output_type": "execute_result"
    }
   ],
   "source": [
    "tensor_A = torch.tensor([[1, 2],\n",
    "                         [3, 4],\n",
    "                         [5, 6]])\n",
    "tensor_B = torch.tensor([[7, 8],\n",
    "                         [9, 10],\n",
    "                         [11, 12]])\n",
    "\n",
    "# torch.mm()\n",
    "tensor_A.shape, tensor_B.shape"
   ]
  },
  {
   "cell_type": "code",
   "execution_count": 200,
   "metadata": {},
   "outputs": [
    {
     "ename": "RuntimeError",
     "evalue": "mat1 and mat2 shapes cannot be multiplied (3x2 and 3x2)",
     "output_type": "error",
     "traceback": [
      "\u001b[1;31m---------------------------------------------------------------------------\u001b[0m",
      "\u001b[1;31mRuntimeError\u001b[0m                              Traceback (most recent call last)",
      "Cell \u001b[1;32mIn[200], line 1\u001b[0m\n\u001b[1;32m----> 1\u001b[0m \u001b[43mtorch\u001b[49m\u001b[38;5;241;43m.\u001b[39;49m\u001b[43mmm\u001b[49m\u001b[43m(\u001b[49m\u001b[43mtensor_A\u001b[49m\u001b[43m,\u001b[49m\u001b[43m \u001b[49m\u001b[43mtensor_B\u001b[49m\u001b[43m)\u001b[49m\n",
      "\u001b[1;31mRuntimeError\u001b[0m: mat1 and mat2 shapes cannot be multiplied (3x2 and 3x2)"
     ]
    }
   ],
   "source": [
    "torch.mm(tensor_A, tensor_B)"
   ]
  },
  {
   "cell_type": "markdown",
   "metadata": {},
   "source": [
    "### 使用transpose\n",
    "\n",
    "- 转置"
   ]
  },
  {
   "cell_type": "code",
   "execution_count": 201,
   "metadata": {},
   "outputs": [
    {
     "data": {
      "text/plain": [
       "tensor([[ 7,  9, 11],\n",
       "        [ 8, 10, 12]])"
      ]
     },
     "execution_count": 201,
     "metadata": {},
     "output_type": "execute_result"
    }
   ],
   "source": [
    "# .T表示transpose\n",
    "\n",
    "tensor_B.T"
   ]
  },
  {
   "cell_type": "code",
   "execution_count": 202,
   "metadata": {},
   "outputs": [
    {
     "data": {
      "text/plain": [
       "tensor([[ 23,  29,  35],\n",
       "        [ 53,  67,  81],\n",
       "        [ 83, 105, 127]])"
      ]
     },
     "execution_count": 202,
     "metadata": {},
     "output_type": "execute_result"
    }
   ],
   "source": [
    "torch.mm(tensor_A, tensor_B.T)"
   ]
  },
  {
   "cell_type": "code",
   "execution_count": null,
   "metadata": {},
   "outputs": [],
   "source": []
  }
 ],
 "metadata": {
  "kernelspec": {
   "display_name": "d2l-zh",
   "language": "python",
   "name": "python3"
  },
  "language_info": {
   "codemirror_mode": {
    "name": "ipython",
    "version": 3
   },
   "file_extension": ".py",
   "mimetype": "text/x-python",
   "name": "python",
   "nbconvert_exporter": "python",
   "pygments_lexer": "ipython3",
   "version": "3.8.20"
  }
 },
 "nbformat": 4,
 "nbformat_minor": 2
}
