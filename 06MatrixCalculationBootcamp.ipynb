{
 "cells": [
  {
   "metadata": {},
   "cell_type": "markdown",
   "source": "![截屏2025-01-24 01.06.15.png](https://cdn.acwing.com/media/article/image/2025/01/24/477965_75aa1d37d9-截屏2025-01-24-01.06.15.png) ",
   "id": "8257ec72fadeede3"
  },
  {
   "metadata": {},
   "cell_type": "code",
   "outputs": [],
   "execution_count": null,
   "source": "",
   "id": "84ee5e6cc01542ae"
  }
 ],
 "metadata": {
  "kernelspec": {
   "display_name": "Python 3",
   "language": "python",
   "name": "python3"
  },
  "language_info": {
   "codemirror_mode": {
    "name": "ipython",
    "version": 2
   },
   "file_extension": ".py",
   "mimetype": "text/x-python",
   "name": "python",
   "nbconvert_exporter": "python",
   "pygments_lexer": "ipython2",
   "version": "2.7.6"
  }
 },
 "nbformat": 4,
 "nbformat_minor": 5
}
