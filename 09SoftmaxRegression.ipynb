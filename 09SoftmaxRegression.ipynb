{
 "cells": [
  {
   "cell_type": "markdown",
   "metadata": {},
   "source": [
    "# Softmax回归\n",
    "\n",
    "- 其实是一个分类问题\n",
    "\n",
    "\n",
    "## 回归 vs 分类\n",
    "\n",
    "- 回归：估计一个连续值\n",
    "  - 单连续值输出\n",
    "  - 输出数值的区间是一个自然区间\n",
    "  - 跟真实值的区别作为损失\n",
    "- 分类：预测一个离散类别\n",
    "  - 通常有多个输出\n",
    "  - 输出$i$是预测为第$i$类的置信度\n",
    "- 几个比较经典的数据集\n",
    "  - MNIST：手写数字识别（10类问题）\n",
    "  - ImageNet：自然物体分类（1000类问题）\n",
    "## 从回归到多类分类 - 均方损失\n",
    "\n",
    "- 对类别进行一位有效编码$$\\mathbf{y} = \\begin{bmatrix} y_1 & y_2 & \\dots & y_n \\end{bmatrix}^{T}$$\n",
    "$$\n",
    "y_i =\n",
    "\\left\\{\n",
    "\\begin{array}{ll}\n",
    "1, & \\text{if } i = y \\\\\n",
    "0, & \\text{otherwise}\n",
    "\\end{array}\n",
    "\\right.\n",
    "$$\n",
    "- 使用均方损失训练\n",
    "- 最大值作为预测\n",
    "$$\n",
    "\\hat{y} = \\underset{i}{\\arg\\max} \\; o_i\n",
    "$$\n",
    "\n",
    "\n",
    "### 无校验比例\n",
    "\n",
    "- 需要更置信的识别正确类（大余量），\n",
    "- 正确类的置信度应该远远大于其他非正确类的置信度，二者的差值应该大于某一阈值\n",
    "\n",
    "$$\n",
    "o_y-o_i\\geq \\Delta(y, i)\n",
    "$$\n",
    "\n",
    "### 校验比例\n",
    "\n",
    "- 输出匹配概率（向量中的元素都非负，并且加和为1）\n",
    "$$\n",
    "\\hat{\\mathbf{y}} = \\text{softmax}(\\mathbf{o})\n",
    "$$\n",
    "$$\n",
    "\\hat{y_i} = \\frac{e^{o_i}}{\\sum_ke^{o_k}}\n",
    "$$\n",
    "- 概率$\\mathbf{y}$和$\\hat{\\mathbf{y}}$的区别作为损失\n",
    "  - $\\mathbf{y}$为独热变量\n",
    "  - $\\hat{\\mathbf{y}}$为概率分布\n",
    "  - 这两个变量长度是一样的\n",
    "\n",
    "## 交叉熵损失\n",
    "\n",
    "- 交叉熵通常用来衡量两个概率的区别\n",
    "$$\n",
    "H(\\mathbf{p,q}) = \\sum_i-p_ilog(q_i)\n",
    "$$\n",
    "\n",
    "- 将交叉熵作为损失，由于真实$y$中只有一个变量为1，所以我们的损失结构也就是对正确类的概率估计\n",
    "$$\n",
    "l(\\mathbf{y},\\hat{\\mathbf{y}}) = -\\sum_iy_i\\log\\hat{y_i} = -\\log\\hat{y_y}\n",
    "$$\n",
    "\n",
    "- 其梯度是真实概率和预测概率的区别\n",
    "$$\n",
    "\\frac{\\partial l(\\mathbf{y},\\hat{\\mathbf{y}})}{\\partial o_i} = \\text{softmax}(o_i) - y_i\n",
    "$$\n",
    "\n",
    "## 总结\n",
    "\n",
    "- Softmax回归是一个多类分类模型\n",
    "- 使用softmax操作子得到每个类的置信度\n",
    "- 使用交叉熵来衡量预测和标号的区别"
   ]
  },
  {
   "cell_type": "markdown",
   "metadata": {},
   "source": [
    "# 似然函数\n",
    "- 假设有一个数据集：\n",
    "$$\n",
    "D=\\{(x^{(1)},y^{(1)}),(x^{(2)},y^{(2)}),\\dots,(x^{(n)},y^{(n)}),\\}\n",
    "$$\n",
    "- 一个模型\n",
    "$$\n",
    "y^{(i)}=f(x^{(i)};\\theta)+\\epsilon^{(i)}\n",
    "$$\n",
    "  - 其中$f(x^{(i)};\\theta)$是模型的输出，$\\theta$是模型的参数\n",
    "  - $\\epsilon^{(i)}$是误差或者噪声项，通常假设服从某种概率分布（如正态分布）\n",
    "- 似然函数的定义：给定模型参数$\\theta$时，观察到当前数据集$D$的概率\n",
    "\n",
    "$$\n",
    "L(\\theta)=P(D|\\theta)\n",
    "$$\n",
    "- 在深度学习中，我们通常采用优化算法（如梯度下降）来最大化似然函数，这一过程成为极大似然估计\n",
    "- 在实际操作是经常使用对数似然，优化时采用对数似然函数：\n",
    "\n",
    "$$\n",
    "\\hat{\\theta}=\\underset{i}{\\arg \\max}L(\\theta)=\\underset{\\theta}{\\arg \\max} \\log P(D|\\theta)\n",
    "$$\n",
    "\n",
    "\n",
    "# 损失函数\n",
    "\n",
    "## 均方损失(L2 Loss)\n",
    "\n",
    "\n",
    "\n",
    "$$\n",
    "l(y, y')=\\frac{1}{2}(y - y')^2\n",
    "$$\n",
    "\n",
    "![L2 Loss](./attachments/L2%20Loss.png)\n",
    "\n",
    "- 蓝色的曲线为：$y$等于0时，损失函数的图像\n",
    "- 绿色的曲线为：似然函数的图像，呈一个高斯分布\n",
    "  - 在假设中我们假设噪声是服从正态分布的，即$\\epsilon=y-y'~N(0, \\sigma^2)$\n",
    "  - 由高斯分布的概率密度函数：$p(y|y')=\\frac{1}{\\sqrt{2\\pi}}e^{-\\frac{(y-y')^2}{2}}$，我们可以得到误差概率是呈钟形的\n",
    "  - 所以我们可以知道模拟出来的数据$y'$在越接近$y$(假设为0)时，出现的概率是越大的\n",
    "- 橙色的曲线为：损失函数的梯度\n",
    "  - 在越接近极值点的时候，可以看到梯度值越小\n",
    "\n",
    "## 绝对值损失（L1 Loss）\n",
    "\n",
    "\n",
    "$$\n",
    "l(y, y')=|y - y'|\n",
    "$$\n",
    "\n",
    "![绝对值损失](./attachments/L1%20Loss.png)\n",
    "\n",
    "- 蓝色的曲线为：$y$等于0时，损失函数的图像\n",
    "- 绿色的曲线为：似然函数的图像\n",
    "  - 使用L1损失时，我们实际上假设数据误差服从拉普拉斯分布\n",
    "  - 拉普拉斯分布的概率密度函数（PDF）形式为：$$p(y|y')=\\frac{1}{2b}e^{\\frac{|y-y'|^2}{b}}$$\n",
    "  - 这个概率密度函数的曲线就是尖峰曲线\n",
    "- 橙色的曲线为：损失函数的梯度\n",
    "  - 无论预测值与真实值有多远，更新的梯度永远都是常数，权重的更新也不会很大（比较稳定；但是零点处不可导，优化末期可能不那么稳定）\n",
    "\n",
    "\n",
    "## Huber's Robust Loss\n",
    "\n",
    "![Huber's Robust Loss](./attachments/Huber%20Robust%20Loss.png)\n"
   ]
  },
  {
   "cell_type": "markdown",
   "metadata": {},
   "source": [
    "# 图片分类数据集\n",
    "\n",
    "- `MNIST`数据集是图像分类中广泛使用的数据集之一，但是有点简单\n",
    "- 现在使用类型但更为复杂的`Fashion-MNIST`数据集"
   ]
  },
  {
   "cell_type": "code",
   "execution_count": null,
   "metadata": {},
   "outputs": [],
   "source": [
    "import torch\n",
    "# torchvision: 计算机视觉的一个库\n",
    "import torchvision\n",
    "from torch.utils import data\n",
    "from torchvision import transforms\n",
    "from d2l import torch as d2l\n",
    "\n",
    "\n",
    "# 使用svg显示图片\n",
    "d2l.use_svg_display()"
   ]
  },
  {
   "cell_type": "code",
   "execution_count": 2,
   "metadata": {},
   "outputs": [
    {
     "name": "stdout",
     "output_type": "stream",
     "text": [
      "Downloading http://fashion-mnist.s3-website.eu-central-1.amazonaws.com/train-images-idx3-ubyte.gz\n",
      "Downloading http://fashion-mnist.s3-website.eu-central-1.amazonaws.com/train-images-idx3-ubyte.gz to ./data/FashionMNIST/raw/train-images-idx3-ubyte.gz\n"
     ]
    },
    {
     "name": "stderr",
     "output_type": "stream",
     "text": [
      "100.0%\n"
     ]
    },
    {
     "name": "stdout",
     "output_type": "stream",
     "text": [
      "Extracting ./data/FashionMNIST/raw/train-images-idx3-ubyte.gz to ./data/FashionMNIST/raw\n",
      "\n",
      "Downloading http://fashion-mnist.s3-website.eu-central-1.amazonaws.com/train-labels-idx1-ubyte.gz\n",
      "Downloading http://fashion-mnist.s3-website.eu-central-1.amazonaws.com/train-labels-idx1-ubyte.gz to ./data/FashionMNIST/raw/train-labels-idx1-ubyte.gz\n"
     ]
    },
    {
     "name": "stderr",
     "output_type": "stream",
     "text": [
      "100.0%\n"
     ]
    },
    {
     "name": "stdout",
     "output_type": "stream",
     "text": [
      "Extracting ./data/FashionMNIST/raw/train-labels-idx1-ubyte.gz to ./data/FashionMNIST/raw\n",
      "\n",
      "Downloading http://fashion-mnist.s3-website.eu-central-1.amazonaws.com/t10k-images-idx3-ubyte.gz\n",
      "Downloading http://fashion-mnist.s3-website.eu-central-1.amazonaws.com/t10k-images-idx3-ubyte.gz to ./data/FashionMNIST/raw/t10k-images-idx3-ubyte.gz\n"
     ]
    },
    {
     "name": "stderr",
     "output_type": "stream",
     "text": [
      "100.0%\n"
     ]
    },
    {
     "name": "stdout",
     "output_type": "stream",
     "text": [
      "Extracting ./data/FashionMNIST/raw/t10k-images-idx3-ubyte.gz to ./data/FashionMNIST/raw\n",
      "\n",
      "Downloading http://fashion-mnist.s3-website.eu-central-1.amazonaws.com/t10k-labels-idx1-ubyte.gz\n",
      "Downloading http://fashion-mnist.s3-website.eu-central-1.amazonaws.com/t10k-labels-idx1-ubyte.gz to ./data/FashionMNIST/raw/t10k-labels-idx1-ubyte.gz\n"
     ]
    },
    {
     "name": "stderr",
     "output_type": "stream",
     "text": [
      "100.0%"
     ]
    },
    {
     "name": "stdout",
     "output_type": "stream",
     "text": [
      "Extracting ./data/FashionMNIST/raw/t10k-labels-idx1-ubyte.gz to ./data/FashionMNIST/raw\n",
      "\n"
     ]
    },
    {
     "name": "stderr",
     "output_type": "stream",
     "text": [
      "\n"
     ]
    },
    {
     "data": {
      "text/plain": [
       "(60000, 10000)"
      ]
     },
     "execution_count": 2,
     "metadata": {},
     "output_type": "execute_result"
    }
   ],
   "source": [
    "trans = transforms.ToTensor()\n",
    "mnist_train = torchvision.datasets.FashionMNIST(\n",
    "  root=\"./data\", train=True, transform=trans, download=True)\n",
    "mnist_test = torchvision.datasets.FashionMNIST(\n",
    "  root=\"./data\", train=False, transform=trans, download=True)\n",
    "\n",
    "len(mnist_train), len(mnist_test)"
   ]
  },
  {
   "cell_type": "code",
   "execution_count": 3,
   "metadata": {},
   "outputs": [
    {
     "data": {
      "text/plain": [
       "torch.Size([1, 28, 28])"
      ]
     },
     "execution_count": 3,
     "metadata": {},
     "output_type": "execute_result"
    }
   ],
   "source": [
    "mnist_train[0][0].shape"
   ]
  },
  {
   "cell_type": "code",
   "execution_count": null,
   "metadata": {},
   "outputs": [],
   "source": []
  }
 ],
 "metadata": {
  "kernelspec": {
   "display_name": "d2l-zh",
   "language": "python",
   "name": "python3"
  },
  "language_info": {
   "codemirror_mode": {
    "name": "ipython",
    "version": 3
   },
   "file_extension": ".py",
   "mimetype": "text/x-python",
   "name": "python",
   "nbconvert_exporter": "python",
   "pygments_lexer": "ipython3",
   "version": "3.8.20"
  }
 },
 "nbformat": 4,
 "nbformat_minor": 2
}
