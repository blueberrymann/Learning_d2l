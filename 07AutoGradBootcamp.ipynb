{
 "cells": [
  {
   "cell_type": "markdown",
   "id": "99820b66",
   "metadata": {},
   "source": [
    "# 自动求导\n",
    "- 假设我们想对函数$y = 2x^Tx$关于列向量$x$进行求导"
   ]
  },
  {
   "cell_type": "code",
   "execution_count": 2,
   "id": "initial_id",
   "metadata": {
    "ExecuteTime": {
     "end_time": "2025-02-11T14:33:11.605668Z",
     "start_time": "2025-02-11T14:33:10.335299Z"
    },
    "collapsed": true
   },
   "outputs": [],
   "source": [
    "import torch"
   ]
  },
  {
   "cell_type": "code",
   "execution_count": 3,
   "id": "dc0b0e19970f9e62",
   "metadata": {
    "ExecuteTime": {
     "end_time": "2025-02-11T14:33:24.107035Z",
     "start_time": "2025-02-11T14:33:24.036100Z"
    }
   },
   "outputs": [
    {
     "data": {
      "text/plain": [
       "tensor([0., 1., 2., 3.])"
      ]
     },
     "execution_count": 3,
     "metadata": {},
     "output_type": "execute_result"
    }
   ],
   "source": [
    "x = torch.arange(4.0)\n",
    "\n",
    "x"
   ]
  },
  {
   "cell_type": "markdown",
   "id": "5a41ed05",
   "metadata": {},
   "source": [
    "  - 在计算$y$关于$\\vec{x}$的梯度之前，我们需要告诉python，用一个地方来存储梯度"
   ]
  },
  {
   "cell_type": "code",
   "execution_count": 4,
   "id": "58cfb75f93d48696",
   "metadata": {
    "ExecuteTime": {
     "end_time": "2025-02-11T14:33:53.464052Z",
     "start_time": "2025-02-11T14:33:53.458137Z"
    }
   },
   "outputs": [],
   "source": [
    "x.requires_grad_(True)\n",
    "x.grad"
   ]
  },
  {
   "cell_type": "markdown",
   "id": "919be14047cf1262",
   "metadata": {},
   "source": [
    "- 通过调用反向传播来自动计算y关于x每个分量的梯度"
   ]
  },
  {
   "cell_type": "code",
   "execution_count": 5,
   "id": "e1eb4ff9f12ec6ef",
   "metadata": {
    "ExecuteTime": {
     "end_time": "2025-02-11T14:34:07.201874Z",
     "start_time": "2025-02-11T14:34:07.187996Z"
    }
   },
   "outputs": [
    {
     "data": {
      "text/plain": [
       "tensor(28., grad_fn=<MulBackward0>)"
      ]
     },
     "execution_count": 5,
     "metadata": {},
     "output_type": "execute_result"
    }
   ],
   "source": [
    "# 现在来计算y\n",
    "y = 2 * torch.dot(x, x)\n",
    "y"
   ]
  },
  {
   "cell_type": "code",
   "execution_count": 6,
   "id": "655b3c7a347c2135",
   "metadata": {
    "ExecuteTime": {
     "end_time": "2025-02-11T14:35:15.401329Z",
     "start_time": "2025-02-11T14:35:15.326028Z"
    }
   },
   "outputs": [
    {
     "data": {
      "text/plain": [
       "tensor([ 0.,  4.,  8., 12.])"
      ]
     },
     "execution_count": 6,
     "metadata": {},
     "output_type": "execute_result"
    }
   ],
   "source": [
    "y.backward()\n",
    "x.grad\n"
   ]
  },
  {
   "cell_type": "code",
   "execution_count": 7,
   "id": "787f5528",
   "metadata": {},
   "outputs": [
    {
     "data": {
      "text/plain": [
       "tensor([True, True, True, True])"
      ]
     },
     "execution_count": 7,
     "metadata": {},
     "output_type": "execute_result"
    }
   ],
   "source": [
    "x.grad == 4 * x"
   ]
  },
  {
   "cell_type": "code",
   "execution_count": 8,
   "id": "07759001",
   "metadata": {},
   "outputs": [],
   "source": [
    "# z = 2 * x\n",
    "# z \n",
    "# x.grad.zero_()\n",
    "# z.backward()\n",
    "# x.grad"
   ]
  },
  {
   "cell_type": "code",
   "execution_count": 9,
   "id": "ad92341c",
   "metadata": {},
   "outputs": [
    {
     "data": {
      "text/plain": [
       "tensor([1., 1., 1., 1.])"
      ]
     },
     "execution_count": 9,
     "metadata": {},
     "output_type": "execute_result"
    }
   ],
   "source": [
    "# 在默认情况下，PyTorch会累计梯度，我们需要清除之前计算的值\n",
    "x.grad.zero_()\n",
    "y = x.sum()\n",
    "y.backward()\n",
    "x.grad"
   ]
  },
  {
   "cell_type": "code",
   "execution_count": null,
   "id": "4f46b2ee",
   "metadata": {},
   "outputs": [
    {
     "data": {
      "text/plain": [
       "tensor([True, True, True, True])"
      ]
     },
     "execution_count": 10,
     "metadata": {},
     "output_type": "execute_result"
    }
   ],
   "source": [
    "# 将梯度清零\n",
    "x.grad.zero_()\n",
    "y = x * x\n",
    "# 将y张量从计算图中分离出来，返回一个新的张量u\n",
    "# 这个张量与y相同\n",
    "# 但是不具有梯度信息\n",
    "# 将u看做一个标量\n",
    "u = y.detach()\n",
    "\n",
    "z = u * x\n",
    "# z.sum()是计算z张量所有元素的和\n",
    "# .backward()是计算z相对于输入张量的梯度（求偏导），并将结果存储在对应的张量的.grad属性中\n",
    "# 由于u是一个标量，所以z.sum().backward就是z对x求导\n",
    "z.sum().backward()\n",
    "x.grad == u"
   ]
  },
  {
   "cell_type": "code",
   "execution_count": 11,
   "id": "19c86d3a",
   "metadata": {},
   "outputs": [
    {
     "data": {
      "text/plain": [
       "tensor([True, True, True, True])"
      ]
     },
     "execution_count": 11,
     "metadata": {},
     "output_type": "execute_result"
    }
   ],
   "source": [
    "x.grad.zero_()\n",
    "y.sum().backward()\n",
    "\n",
    "x.grad == 2 * x"
   ]
  },
  {
   "cell_type": "code",
   "execution_count": null,
   "id": "6c66d3a8",
   "metadata": {},
   "outputs": [
    {
     "data": {
      "text/plain": [
       "tensor([2., 2., 2., 2.])"
      ]
     },
     "execution_count": 13,
     "metadata": {},
     "output_type": "execute_result"
    }
   ],
   "source": [
    "x.grad.zero_()\n",
    "y = 2 * x\n",
    "# .backward()函数只有用标量输出\n",
    "# 所以必须保证.前面的内容是一个标量\n",
    "y.sum().backward()\n",
    "\n",
    "x.grad\n"
   ]
  },
  {
   "cell_type": "markdown",
   "id": "1839e0ae",
   "metadata": {},
   "source": [
    "- 对于f(a)\n",
    "- 首先将$a$输入到函数中，此时：$$b = 2 * a$$\n",
    "- 接下来进行$k$次操作，直至b的大小大于等于1000，此时：$$b = 2 * a * 2^k = 2^{k + 1} * a$$\n",
    "- 接下俩对$b$进行操作，分为乘1或者乘100，此时：$$c = t * 2^{k + 1} * a \\quad (t =1,100)$$\n",
    "- 返回$c$值，此时$$d = c$$\n",
    "- $d$对$a$进行求导，可以发现$$\\text{grad}(d) = t * 2^{k + 1} = d / a$$"
   ]
  },
  {
   "cell_type": "code",
   "execution_count": 19,
   "id": "72b98334",
   "metadata": {},
   "outputs": [
    {
     "data": {
      "text/plain": [
       "tensor(True)"
      ]
     },
     "execution_count": 19,
     "metadata": {},
     "output_type": "execute_result"
    }
   ],
   "source": [
    "def f(a):\n",
    "  b = a * 2\n",
    "  while b.norm() < 1000:\n",
    "    b = b * 2\n",
    "  if b.sum() > 0:\n",
    "    c = b\n",
    "  else:\n",
    "    c = 100 * b\n",
    "  return c\n",
    "\n",
    "a = torch.randn(size=(),requires_grad=True)\n",
    "a\n",
    "d = f(a)\n",
    "d.backward()\n",
    "\n",
    "a.grad == d / a\n"
   ]
  },
  {
   "cell_type": "code",
   "execution_count": null,
   "id": "88ef4412",
   "metadata": {},
   "outputs": [],
   "source": []
  }
 ],
 "metadata": {
  "kernelspec": {
   "display_name": "d2l-zh",
   "language": "python",
   "name": "python3"
  },
  "language_info": {
   "codemirror_mode": {
    "name": "ipython",
    "version": 3
   },
   "file_extension": ".py",
   "mimetype": "text/x-python",
   "name": "python",
   "nbconvert_exporter": "python",
   "pygments_lexer": "ipython3",
   "version": "3.8.20"
  }
 },
 "nbformat": 4,
 "nbformat_minor": 5
}
