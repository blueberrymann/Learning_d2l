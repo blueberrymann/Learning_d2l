{
 "cells": [
  {
   "cell_type": "markdown",
   "id": "99820b66",
   "metadata": {},
   "source": [
    "# 自动求导\n",
    "- 假设我们想对函数$y = 2x^Tx$关于列向量$x$进行求导"
   ]
  },
  {
   "cell_type": "code",
   "execution_count": 22,
   "id": "initial_id",
   "metadata": {
    "ExecuteTime": {
     "end_time": "2025-02-11T14:33:11.605668Z",
     "start_time": "2025-02-11T14:33:10.335299Z"
    },
    "collapsed": true
   },
   "outputs": [],
   "source": [
    "import torch"
   ]
  },
  {
   "cell_type": "code",
   "execution_count": 23,
   "id": "dc0b0e19970f9e62",
   "metadata": {
    "ExecuteTime": {
     "end_time": "2025-02-11T14:33:24.107035Z",
     "start_time": "2025-02-11T14:33:24.036100Z"
    }
   },
   "outputs": [
    {
     "data": {
      "text/plain": [
       "tensor([0., 1., 2., 3.])"
      ]
     },
     "execution_count": 23,
     "metadata": {},
     "output_type": "execute_result"
    }
   ],
   "source": [
    "x = torch.arange(4.0)\n",
    "\n",
    "x"
   ]
  },
  {
   "cell_type": "markdown",
   "id": "5a41ed05",
   "metadata": {},
   "source": [
    "  - 在计算$y$关于$\\vec{x}$的梯度之前，我们需要告诉python，用一个地方来存储梯度"
   ]
  },
  {
   "cell_type": "code",
   "execution_count": 24,
   "id": "58cfb75f93d48696",
   "metadata": {
    "ExecuteTime": {
     "end_time": "2025-02-11T14:33:53.464052Z",
     "start_time": "2025-02-11T14:33:53.458137Z"
    }
   },
   "outputs": [],
   "source": [
    "x.requires_grad_(True)\n",
    "x.grad"
   ]
  },
  {
   "cell_type": "markdown",
   "id": "919be14047cf1262",
   "metadata": {},
   "source": [
    "- 通过调用反向传播来自动计算y关于x每个分量的梯度"
   ]
  },
  {
   "cell_type": "code",
   "execution_count": null,
   "id": "e1eb4ff9f12ec6ef",
   "metadata": {
    "ExecuteTime": {
     "end_time": "2025-02-11T14:34:07.201874Z",
     "start_time": "2025-02-11T14:34:07.187996Z"
    }
   },
   "outputs": [
    {
     "data": {
      "text/plain": [
       "tensor(28., grad_fn=<MulBackward0>)"
      ]
     },
     "execution_count": 25,
     "metadata": {},
     "output_type": "execute_result"
    }
   ],
   "source": [
    "# 现在来计算y\n",
    "y = 2 * torch.dot(x, x)\n",
    "y"
   ]
  },
  {
   "cell_type": "code",
   "execution_count": 26,
   "id": "655b3c7a347c2135",
   "metadata": {
    "ExecuteTime": {
     "end_time": "2025-02-11T14:35:15.401329Z",
     "start_time": "2025-02-11T14:35:15.326028Z"
    }
   },
   "outputs": [
    {
     "data": {
      "text/plain": [
       "tensor([ 0.,  4.,  8., 12.])"
      ]
     },
     "execution_count": 26,
     "metadata": {},
     "output_type": "execute_result"
    }
   ],
   "source": [
    "y.backward()\n",
    "x.grad\n"
   ]
  },
  {
   "cell_type": "code",
   "execution_count": 28,
   "id": "787f5528",
   "metadata": {},
   "outputs": [
    {
     "data": {
      "text/plain": [
       "tensor([ True, False, False, False])"
      ]
     },
     "execution_count": 28,
     "metadata": {},
     "output_type": "execute_result"
    }
   ],
   "source": [
    "x.grad == 4 * x"
   ]
  },
  {
   "cell_type": "code",
   "execution_count": 33,
   "id": "07759001",
   "metadata": {},
   "outputs": [],
   "source": [
    "# z = 2 * x\n",
    "# z \n",
    "# x.grad.zero_()\n",
    "# z.backward()\n",
    "# x.grad"
   ]
  },
  {
   "cell_type": "code",
   "execution_count": null,
   "id": "ad92341c",
   "metadata": {},
   "outputs": [
    {
     "data": {
      "text/plain": [
       "tensor([1., 1., 1., 1.])"
      ]
     },
     "execution_count": 29,
     "metadata": {},
     "output_type": "execute_result"
    }
   ],
   "source": [
    "# 在默认情况下，PyTorch会累计梯度，我们需要清除之前计算的值\n",
    "x.grad.zero_()\n",
    "y = x.sum()\n",
    "y.backward()\n",
    "x.grad"
   ]
  },
  {
   "cell_type": "code",
   "execution_count": null,
   "id": "4f46b2ee",
   "metadata": {},
   "outputs": [],
   "source": []
  }
 ],
 "metadata": {
  "kernelspec": {
   "display_name": "d2l-zh",
   "language": "python",
   "name": "python3"
  },
  "language_info": {
   "codemirror_mode": {
    "name": "ipython",
    "version": 3
   },
   "file_extension": ".py",
   "mimetype": "text/x-python",
   "name": "python",
   "nbconvert_exporter": "python",
   "pygments_lexer": "ipython3",
   "version": "3.8.20"
  }
 },
 "nbformat": 4,
 "nbformat_minor": 5
}
